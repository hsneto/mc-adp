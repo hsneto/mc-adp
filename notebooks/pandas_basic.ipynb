{
  "nbformat": 4,
  "nbformat_minor": 0,
  "metadata": {
    "colab": {
      "name": "pandas-basic.ipynb",
      "version": "0.3.2",
      "provenance": [],
      "private_outputs": true,
      "collapsed_sections": []
    },
    "kernelspec": {
      "name": "python3",
      "display_name": "Python 3"
    }
  },
  "cells": [
    {
      "metadata": {
        "colab_type": "text",
        "id": "N4gK80ETXinB"
      },
      "cell_type": "markdown",
      "source": [
        "# Minicurso: Análise e Manipulação de Dados com Python: Parte 1"
      ]
    },
    {
      "metadata": {
        "colab_type": "text",
        "id": "QAxmN0NFfDzl"
      },
      "cell_type": "markdown",
      "source": [
        "**Minicurso:** Análise e Manipulação de Dados com Python\n",
        "\n",
        "**Instrutor:** Humberto da Silva Neto"
      ]
    },
    {
      "metadata": {
        "colab_type": "text",
        "id": "qv3tR7oHfWWZ"
      },
      "cell_type": "markdown",
      "source": [
        "**Aluno:** "
      ]
    },
    {
      "metadata": {
        "colab_type": "text",
        "id": "IVhqk5oKXzLu"
      },
      "cell_type": "markdown",
      "source": [
        "## Tabela de conteúdos:\n",
        "\n",
        "### Parte 1:\n",
        "1. [Introdução ao Pandas](#int-pandas)\n",
        "\n",
        "2. [Correção dos dados](#correcao-dos-dados)\n",
        " - [Identificando e lidando com valores ausentes](#valores-nan)\n",
        " - [Corrigindo os tipos dos dados](#astype)\n",
        " \n",
        "3. [Padronização de dados](#padronizacao)\n",
        " \n",
        "4. [Normalização de dados](#normalizacao)\n",
        " \n",
        "5. [_Binning_](#binning)\n",
        " \n",
        "6. [Correlação](#correlacao)\n",
        "\n",
        "### [Parte 2:](https://github.com/hsneto/py-pandas-minicourse/blob/master/notebooks/pandas_plot.ipynb)\n",
        "7. Preparando os dados\n",
        "8. Visualização de dados usando Matplotlib\n",
        " - Gráficos de Linha\n",
        " - Gráficos de Área\n",
        " - Histogramas\n",
        " - Gráficos de Barras\n",
        " - Gráficos de Pizza\n",
        " - Diagrama de Caixa\n",
        " - Gráfico de Dispersão\n",
        "\n",
        "### Outros:\n",
        "\n",
        "- [Dicas e observações](#dicas)\n",
        "- [Referências](#ref)"
      ]
    },
    {
      "metadata": {
        "colab_type": "text",
        "id": "X-B2j4MIV3IE"
      },
      "cell_type": "markdown",
      "source": [
        "## Introdução ao Pandas<a name=\"int-pandas\"></a>\n",
        "\n",
        "![pandas-logo](https://pandas.pydata.org/_static/pandas_logo.png)\n",
        "\n",
        "Este módulo contém estruturas de dados e ferramentas de manipulação de dados projetadas para facilitar e agilizar a correção e a análise de dados no Python. \n",
        "Pandas consegue obter base de dados de diferentes lugares e formatos (.csv, .json, .xlxs). Nesse curso, iremos trabalhar somente com arquivos no formato .csv (*Comma-separated values*).\n",
        "\n",
        "A primeira parte desta seção é aprender a importar a base de dados. Contudo, o Google Colaboratory funciona como um container que roda em um servidor da Google e, por essa razão, os demais arquivos da sua pasta no drive não foram carregados$^{[1]}$. A seção extra [Dicas e observações](#dicas) demonstra duas formas de carregar seus arquivos. A primeira é para carregar direto da sua máquina (via upload) e a segunda carrega seus arquivos diretamente do drive (criando um novo volume na aplicação do container). Sinta-se a vontade de procurar uma outra forma para contornar esse problema.\n",
        "\n",
        "Continuando$^{[2]}$, primeiro devemos importar o módulo Pandas, para isso use \n",
        "\n",
        "```python\n",
        "import pandas as pd\n",
        "```\n",
        "\n",
        "---\n",
        "$^{[1]}$ Caso o arquivo esteja na web, é possível carregá-los sem ter que importar os arquivos para a aplicação.\n",
        "\n",
        "$^{[2]}$ Iremos utilizar um banco de dados online para facilitar e processo.\n",
        "\n",
        "---"
      ]
    },
    {
      "metadata": {
        "colab_type": "code",
        "id": "fpYVU_7WnnnV",
        "colab": {}
      },
      "cell_type": "code",
      "source": [
        "import pandas as pd"
      ],
      "execution_count": 0,
      "outputs": []
    },
    {
      "metadata": {
        "colab_type": "text",
        "id": "4F5iUS8Hnq6X"
      },
      "cell_type": "markdown",
      "source": [
        "### Lendo arquivos:\n",
        "\n",
        "A função **`pd.read_csv()`** lê um arquivo .csv através do endereço do arquivo. O endereço do arquivo pode ser um URL ou o endereço do seu arquivo local. \n",
        "\n",
        "Obs.: Em casos em que a tabela não possua um cabeçalho previamente definido, o _dataframe_ irá considerar a primeira linha da tabela como o cabeçalho ao invés de dados. Para evitar isso, adicione o argumento **`header=None`** dentro do método **`read_csv()`**, para que o Pandas gere um cabeçalho automaticamente."
      ]
    },
    {
      "metadata": {
        "colab_type": "code",
        "id": "uVwfxUVFWawh",
        "colab": {}
      },
      "cell_type": "code",
      "source": [
        "# Lê o arquivo online e atribui os dados a variável df\n",
        "path = 'https://archive.ics.uci.edu/ml/machine-learning-databases/autos/imports-85.data'\n",
        "df = pd.read_csv(path)"
      ],
      "execution_count": 0,
      "outputs": []
    },
    {
      "metadata": {
        "colab_type": "text",
        "id": "0KnrmkBtZmss"
      },
      "cell_type": "markdown",
      "source": [
        "Você pode utilizar o método **`dataframe.head(n)`** para visualizar os n primeiras linhas do _dataframe_ ou **`dataframe.tail(n)`** para as n últimos. Por padrão, o valor de n é 5."
      ]
    },
    {
      "metadata": {
        "colab_type": "code",
        "id": "iWlvXot7bDn0",
        "colab": {}
      },
      "cell_type": "code",
      "source": [
        "############################################################################\n",
        "# TODO: Mostre as três primeiras linhas usando o método df.head()          #\n",
        "############################################################################\n",
        "pass\n",
        "############################################################################\n",
        "#                             END OF YOUR CODE                             #\n",
        "############################################################################"
      ],
      "execution_count": 0,
      "outputs": []
    },
    {
      "metadata": {
        "colab_type": "text",
        "id": "jheQq-WbbwgF"
      },
      "cell_type": "markdown",
      "source": [
        "Observando o *dataframe*, é possível notar que as colunas representam uma categoria de dados, como por exemplo:\n",
        "- a terceira coluna representa o modelo do carro \n",
        "- a quarta coluna representa o tipo de combustível \n",
        "- ... \n",
        "- a utlima coluna representa o preço do carro\n",
        "\n",
        "Entretanto, também é possível perceber que os nomes das colunas também são dados ao invés de nomes/categorias. Para lidar com isso, devemos sinalizar que o cabeçalho é não existente quando o importamos. Para isso, utilize o argumento **header** do método **`pd.read_csv()`** discutido acima."
      ]
    },
    {
      "metadata": {
        "colab_type": "code",
        "id": "u7LdqOoedwdy",
        "colab": {}
      },
      "cell_type": "code",
      "source": [
        "path = 'https://archive.ics.uci.edu/ml/machine-learning-databases/autos/imports-85.data'\n",
        "df = pd.read_csv(path, header=None)\n",
        "df.head(3)"
      ],
      "execution_count": 0,
      "outputs": []
    },
    {
      "metadata": {
        "colab_type": "text",
        "id": "aGu_0-dEd7oH"
      },
      "cell_type": "markdown",
      "source": [
        "Observando a nossa tabela, nota-se que o pandas automaticamente definiu o cabeçalho com inteiros a partir de 0.\n",
        "\n",
        "Para melhor descrever nossos dados, iremos introduzir o cabeçalho utilizando as informações em: https://archive.ics.uci.edu/ml/datasets/Automobile.\n",
        "\n",
        "Para isso, iremos incluir manualmente o cabeçalho. Começando por criar uma lista$^{[1]}$ que inclui todos os nomes das colunas em ordem. Então utilizaremos o comando **dataframe.columns = headers** para repor o cabeçalho por aquele que criamos.\n",
        "\n",
        "---\n",
        "$^{[1]}$ Utilize a lista abaixo:\n",
        "\n",
        "```python\n",
        "headers = [\"symboling\",\"normalized-losses\",\"make\",\"fuel-type\",\"aspiration\", \"num-of-doors\",\"body-style\",\n",
        "         \"drive-wheels\",\"engine-location\",\"wheel-base\", \"length\",\"width\",\"height\",\"curb-weight\",\"engine-type\",\n",
        "         \"num-of-cylinders\", \"engine-size\",\"fuel-system\",\"bore\",\"stroke\",\"compression-ratio\",\"horsepower\",\n",
        "         \"peak-rpm\",\"city-mpg\",\"highway-mpg\",\"price\"]\n",
        "```\n",
        "---"
      ]
    },
    {
      "metadata": {
        "colab_type": "code",
        "id": "FRtVc-nofWQm",
        "colab": {}
      },
      "cell_type": "code",
      "source": [
        "############################################################################\n",
        "# TODO: Adicione o cabeçalho acima ao DataFrame                            #\n",
        "############################################################################\n",
        "pass\n",
        "####################################################\n",
        "#                             END OF YOUR CODE                             #\n",
        "############################################################################\n",
        "\n",
        "df.head(3)"
      ],
      "execution_count": 0,
      "outputs": []
    },
    {
      "metadata": {
        "colab_type": "text",
        "id": "kWlY7-_0rE4a"
      },
      "cell_type": "markdown",
      "source": [
        "### Salvando arquivos:\n",
        "\n",
        "De forma correspondente, o Pandas nos permite salvar o conjunto de dados em csv usando o método **`dataframe.to_csv()`**.\n",
        "\n",
        "Por exemplo, se você salvasse o dataframe \"df\" como \"automobile.csv\" em sua máquina local, você pode usar a sintaxe abaixo:\n",
        "\n",
        "```python\n",
        "df.to_csv (\"automobile.csv\")```\n",
        "\n",
        "Também podemos ler e salvar outros formatos de arquivo, podemos usar funções semelhantes a **`pd.read_csv()`** e **`df.to_csv()`** para outros formatos de dados, as funções são listadas na seguinte tabela:\n",
        "\n",
        "| Data Formate | Read           | Save          |\n",
        "|:------------:|:--------------:|:-------------:|\n",
        "| csv          | pd.read_csv()  | df.to_csv()   |\n",
        "| json         | pd.read_json() | df.to_json()  |\n",
        "| excel        | pd.read_excel()| df.to_excel() |\n",
        "| hdf          | pd.read_hdf()  | df.to_hdf()   |\n",
        "| sql          | pd.read_sql()  | df.to_sql()   |\n",
        "| ...          | ...            | ...           |"
      ]
    },
    {
      "metadata": {
        "colab_type": "text",
        "id": "Am89yC69hwGr"
      },
      "cell_type": "markdown",
      "source": [
        "### Comandos básicos:\n",
        "\n",
        "Agora que conseguimos ler os dados em *Pandas dataframe*, vamos explorar algumas funcionalidades que irão nos ajudar a entender os nossos dados.\n",
        "\n",
        "#### Selecionando colunas:\n",
        "\n",
        "Para selecionar uma coluna específica do *dataframe*, utilize o seguinte comando: **`dataframe['nome_da_coluna']`**. Por exemplo: \n",
        "\n",
        "```python \n",
        "df['price'].head()```\n",
        "  \n",
        "Para selecionar mais de uma coluna do *dataframe*, utilize o seguinte comando: **`dataframe[['nome_da_coluna_1, nome_da_coluna_2']]`**. Por exemplo:  \n",
        "\n",
        "```python \n",
        "df[['make','price']].head()```\n",
        "\n",
        "#### Tipos de dados:\n",
        "\n",
        "O *dataframe* pode possuir uma variedade de dados de diferentes tipos. Os tipos principais em *Pandas Dataframe* são: `object, float, int, bool e datetime64`. O comando **dataframe.dtypes** retorna uma Série com os tipos de dados de cada coluna.\n",
        "\n",
        "#### Descrição:\n",
        "\n",
        "1. **`dataframe.describe()`**$^{[1,2]}$ é um método que gera um resumo estatístico de cada coluna. Entre as informações fornecidas, estão a média, mínimo, máximo, desvio padrão, etc.\n",
        "\n",
        "2. Outro método para checar as informações da sua base de dados é **`dataframe.info`**\n",
        "\n",
        "---\n",
        "$^{[1]}$ Esse método fornecerá várias estatísticas de resumo, excluindo os valores NaN (não um número).\n",
        "\n",
        "$^{[2]}$ No entanto, se desejarmos verificar os dados de todas as colunas, incluindo aquelas que são do tipo objeto (ou seja, não numero), devemos adicionar o argumento **`include=\"all\"`** dentro do método.\n",
        "\n",
        "---"
      ]
    },
    {
      "metadata": {
        "colab_type": "text",
        "id": "ZzdRei_CuoRl"
      },
      "cell_type": "markdown",
      "source": [
        "Agora, faça as seguintes atividades:\n",
        "\n",
        "1. Teste os comandos acima descritos acima.\n",
        "2. Utilize o médodo **`dataframe.describe()`** somenta para a coluna de preços."
      ]
    },
    {
      "metadata": {
        "colab_type": "code",
        "id": "nQ2Uwa57ngDc",
        "colab": {}
      },
      "cell_type": "code",
      "source": [
        "############################################################################\n",
        "# TODO: Cheque os tipos de dados do dataframe                              #\n",
        "############################################################################\n",
        "pass\n",
        "############################################################################\n",
        "#               END OF YOUR CODE                                           #\n",
        "############################################################################"
      ],
      "execution_count": 0,
      "outputs": []
    },
    {
      "metadata": {
        "id": "BMk_eel9u-Nq",
        "colab_type": "code",
        "colab": {}
      },
      "cell_type": "code",
      "source": [
        "############################################################################\n",
        "# TODO: Obtenha as informacoes do dataframe com info()                     #\n",
        "############################################################################\n",
        "pass\n",
        "############################################################################\n",
        "#               END OF YOUR CODE                                           #\n",
        "############################################################################"
      ],
      "execution_count": 0,
      "outputs": []
    },
    {
      "metadata": {
        "colab_type": "code",
        "id": "t4i-BRD7nBgQ",
        "colab": {}
      },
      "cell_type": "code",
      "source": [
        "############################################################################\n",
        "# TODO: Obtenha os dados estatísticos de dataframe                         #\n",
        "############################################################################\n",
        "pass\n",
        "############################################################################\n",
        "#               END OF YOUR CODE                                           #\n",
        "############################################################################"
      ],
      "execution_count": 0,
      "outputs": []
    },
    {
      "metadata": {
        "colab_type": "code",
        "id": "ndd_qpa3jFF4",
        "colab": {}
      },
      "cell_type": "code",
      "source": [
        "############################################################################\n",
        "# TODO: Obtenha os dados estatísticos da coluna de preços do dataframe     #\n",
        "############################################################################\n",
        "pass\n",
        "############################################################################\n",
        "#               END OF YOUR CODE                                           #\n",
        "############################################################################"
      ],
      "execution_count": 0,
      "outputs": []
    },
    {
      "metadata": {
        "id": "Jow9VxI2u-N9",
        "colab_type": "text"
      },
      "cell_type": "markdown",
      "source": [
        "Como você pode notar, a descrição estatística dos preços não apresentou os dados esperados. Isso acontece porque a coluna de preços foi interpretada como tipo objeto ao invés de float, conforme exibido pelo comando **`df.dtypes`**"
      ]
    },
    {
      "metadata": {
        "colab_type": "text",
        "id": "60OLTy5UV3Fk"
      },
      "cell_type": "markdown",
      "source": [
        "## Correção dos dados<a name=\"correcao-dos-dados\"></a>"
      ]
    },
    {
      "metadata": {
        "colab_type": "text",
        "id": "Dj2sgiHthT-E"
      },
      "cell_type": "markdown",
      "source": [
        "O banco de dados atual ainda possui alguns problemas tais como dados perdidos (representados por **'?'**) ou possuem o formato dos dados errados, como é o caso da coluna de preços que tem seus dados como tipo `object` ao invés de `int`*$^{[1]}$.\n",
        "\n",
        "---\n",
        "$^{[1]}$ O que fez com que `df[['price']].describe()` não apresentasse os valores estatísticos esperados."
      ]
    },
    {
      "metadata": {
        "colab_type": "text",
        "id": "01GmKNL09zM1"
      },
      "cell_type": "markdown",
      "source": [
        "### Lidando com dados perdidos ('?'):<a name=\"valores-nan\"></a>\n",
        "\n",
        "No bando de dados, a ausência de alguns dados é representado por pontos de interrogações ('?'). \n",
        "\n",
        "Para lidar com esses elementos, iremos transformar '?' para NaN (*Not a Number*) que é o marcador padrão em Python para valores perdidos. Para isso, utilize o comando abaixo substituir A por B:\n",
        "\n",
        "```python\n",
        "df.replace(A, B, inplace=True)\n",
        "```\n"
      ]
    },
    {
      "metadata": {
        "colab_type": "code",
        "id": "A0kL9WOb-6qk",
        "colab": {}
      },
      "cell_type": "code",
      "source": [
        "from numpy import nan\n",
        "\n",
        "############################################################################\n",
        "# TODO: Substitua os elementos \"?\" por NaN no DataFrame                    #\n",
        "############################################################################\n",
        "pass\n",
        "############################################################################\n",
        "#               END OF YOUR CODE                                           #\n",
        "############################################################################\n",
        "\n",
        "df.head(3)"
      ],
      "execution_count": 0,
      "outputs": []
    },
    {
      "metadata": {
        "colab_type": "text",
        "id": "_c3C0nPHhT7j"
      },
      "cell_type": "markdown",
      "source": [
        "Há dois métodos para identificar os dados perdidos, ou seja, encontrar os valores NaN no banco de dados.\n",
        "1. **isnull()**\n",
        "1. **notnull()**"
      ]
    },
    {
      "metadata": {
        "colab_type": "code",
        "id": "u6wWNMW9_hE6",
        "colab": {}
      },
      "cell_type": "code",
      "source": [
        "missing_data = df.isnull()\n",
        "missing_data.head(3)"
      ],
      "execution_count": 0,
      "outputs": []
    },
    {
      "metadata": {
        "colab_type": "text",
        "id": "nrcw8keBAHYU"
      },
      "cell_type": "markdown",
      "source": [
        "É possível quantos valores perdidos cada coluna possui conforme o código abaixo:"
      ]
    },
    {
      "metadata": {
        "colab_type": "code",
        "id": "wF1_xnfNAsyE",
        "colab": {}
      },
      "cell_type": "code",
      "source": [
        "for column in missing_data.columns.values.tolist():\n",
        "  print(column)\n",
        "  print (missing_data[column].value_counts())\n",
        "  print(\"\")    "
      ],
      "execution_count": 0,
      "outputs": []
    },
    {
      "metadata": {
        "id": "DP7smDTYss_8",
        "colab_type": "text"
      },
      "cell_type": "markdown",
      "source": [
        "Com base no resumo acima, cada coluna possui 205 linhas de dados, sete colunas contendo dados ausentes:\n",
        "\n",
        "1.     \"normalized-losses\": 41 dados perdidos\n",
        "1.     \"num-of-doors\": 2 dados perdidos\n",
        "1.     \"bore\": 4 dados perdidos\n",
        "1.    \"stroke\": 4 dados perdidos\n",
        "1.     \"horsepower\": 2 dados faltantes\n",
        "1.     \"peak-rpm\": 2 dados perdidos\n",
        "1.     \"price\": 4 dados faltantes"
      ]
    },
    {
      "metadata": {
        "colab_type": "text",
        "id": "9Jml8UEsXgmu"
      },
      "cell_type": "markdown",
      "source": [
        "Agora que substituímos todos os valores ausentes para np.nan, podemos decidir o que fazer com esses dados. Segue abaixo algumas opções:\n",
        "    \n",
        "    1. Descartar dados \n",
        "        a. Descartar a linha inteira \n",
        "        b. Descartar a coluna inteira\n",
        "    2. Substituir dados\n",
        "        a. substituir pela média\n",
        "        b. substituir pela frequência\n",
        "        c. substituir baseando-se em outras funções"
      ]
    },
    {
      "metadata": {
        "id": "f-VgxwJctorp",
        "colab_type": "text"
      },
      "cell_type": "markdown",
      "source": [
        "Colunas inteiras devem ser descartadas apenas se a maioria das entradas na coluna estiver vazia. Em nosso conjunto de dados, nenhuma das colunas está vazia o suficiente para ser descartada completamente.\n",
        "Temos alguma liberdade na escolha de qual método substituir os dados; no entanto, alguns métodos podem parecer mais razoáveis  do que outros. \n",
        "\n",
        "Vamos aplicar os seguintes métodos.\n",
        "\n",
        "**1. Substituir pela média:**\n",
        "\n",
        "    \"normalized-losses\": 41 dados perdidos\n",
        "    \"stroke\": 4 dados perdidos\n",
        "    \"bore\": 4 dados perdidos\n",
        "    \"horsepower\": 2 dados perdidos\n",
        "    \"peak-rpm\": 2 dados perdidos\n",
        "\n",
        "**2. Substituir por frequência:**\n",
        "\n",
        "    \"num-of-doors\": 2 dados perdidos, substitua-os por \"quatro\".\n",
        " *Razão: 84% dos sedans são quatro portas. Como quatro portas são mais frequentes, é mais provável*\n",
        "    \n",
        "\\\\\n",
        "**3. Solte a linha inteira:**\n",
        "\n",
        "    \"price\": 4 dados faltantes, simplesmente exclua a linha inteira\n",
        "*Razão: preço é o que queremos prever. Qualquer entrada de dados sem dados de preço não pode ser usada para previsão; portanto, eles não são úteis para nós*"
      ]
    },
    {
      "metadata": {
        "id": "LfVqlgU3-PQp",
        "colab_type": "text"
      },
      "cell_type": "markdown",
      "source": [
        "#### Substituindo pelo valor médio:"
      ]
    },
    {
      "metadata": {
        "id": "vZPGJ1d85Hgy",
        "colab_type": "code",
        "colab": {}
      },
      "cell_type": "code",
      "source": [
        "############################################################################\n",
        "# TODO: Calcule o valor medio da coluna: \"normalized-losses\"               #\n",
        "############################################################################\n",
        "pass\n",
        "############################################################################\n",
        "#               END OF YOUR CODE                                           #\n",
        "############################################################################"
      ],
      "execution_count": 0,
      "outputs": []
    },
    {
      "metadata": {
        "id": "ZAauFEen5HfG",
        "colab_type": "code",
        "colab": {}
      },
      "cell_type": "code",
      "source": [
        "print(\"Antes de substituir:\")\n",
        "print(df[\"normalized-losses\"].head())\n",
        "print(\"\\n######################################\")\n",
        "\n",
        "############################################################################\n",
        "# TODO: Substitua \"NaN\" pelo valor médio na coluna: \"normalized-losses\"    #\n",
        "############################################################################\n",
        "pass\n",
        "############################################################################\n",
        "#               END OF YOUR CODE                                           #\n",
        "############################################################################\n",
        "\n",
        "print(\"\\nDepois de substituir:\")\n",
        "print(df[\"normalized-losses\"].head())"
      ],
      "execution_count": 0,
      "outputs": []
    },
    {
      "metadata": {
        "id": "mWEviFfW5Hdb",
        "colab_type": "code",
        "colab": {}
      },
      "cell_type": "code",
      "source": [
        "print(\"Antes de substituir:\")\n",
        "print(df.iloc[[55,56,57,58,130,131],[18,19,21,22]])\n",
        "print(\"\\n######################################\")\n",
        "\n",
        "############################################################################\n",
        "# TODO: Repita o processo acima para as colunas: \"stroke\", \"bore\",         #\n",
        "# \"horsepower\", \"peak-rpm\"                                                 #\n",
        "############################################################################\n",
        "pass\n",
        "############################################################################\n",
        "#               END OF YOUR CODE                                           #\n",
        "############################################################################\n",
        "\n",
        "print(\"\\nDepois de substituir:\")\n",
        "print(df.iloc[[55,56,57,58,130,131],[18,19,21,22]])"
      ],
      "execution_count": 0,
      "outputs": []
    },
    {
      "metadata": {
        "id": "27Gj2Z04-VTg",
        "colab_type": "text"
      },
      "cell_type": "markdown",
      "source": [
        "#### Substituindo pela frequência:"
      ]
    },
    {
      "metadata": {
        "id": "2HvOSfDu5HbL",
        "colab_type": "code",
        "colab": {}
      },
      "cell_type": "code",
      "source": [
        "############################################################################\n",
        "# TODO: Calcule a frequência de cada elemento da coluna: \"num-of-doors\".   #\n",
        "#                                                                          #\n",
        "# DICA: O metodo df.value_counts() pode ser util.                          #\n",
        "############################################################################\n",
        "pass\n",
        "############################################################################\n",
        "#               END OF YOUR CODE                                           #\n",
        "############################################################################"
      ],
      "execution_count": 0,
      "outputs": []
    },
    {
      "metadata": {
        "id": "p5-IAyB05HVn",
        "colab_type": "code",
        "colab": {}
      },
      "cell_type": "code",
      "source": [
        "print(\"Antes de substituir:\")\n",
        "print(df.loc[[27,63], \"num-of-doors\"])\n",
        "print(\"\\n######################################\")\n",
        "\n",
        "############################################################################\n",
        "# TODO: Substitua \"NaN\" pelo valor médio na coluna: \"normalized-losses\"    #\n",
        "############################################################################\n",
        "pass\n",
        "############################################################################\n",
        "#               END OF YOUR CODE                                           #\n",
        "############################################################################\n",
        "\n",
        "print(\"\\nDepois de substituir:\")\n",
        "print(df.loc[[27,63], \"num-of-doors\"])"
      ],
      "execution_count": 0,
      "outputs": []
    },
    {
      "metadata": {
        "id": "_7iUjmeqClSd",
        "colab_type": "text"
      },
      "cell_type": "markdown",
      "source": [
        "#### Removendo as linhas:"
      ]
    },
    {
      "metadata": {
        "id": "0bUPa0MjCzTn",
        "colab_type": "code",
        "colab": {}
      },
      "cell_type": "code",
      "source": [
        "############################################################################\n",
        "# TODO: Remova as linhas que contem NaN na coluna \"prices\"                 #\n",
        "#                                                                          #\n",
        "# DICA: O metodo df.dropna() pode ser util.                                #\n",
        "############################################################################\n",
        "pass\n",
        "############################################################################\n",
        "#               END OF YOUR CODE                                           #\n",
        "############################################################################"
      ],
      "execution_count": 0,
      "outputs": []
    },
    {
      "metadata": {
        "id": "In6B8GgKDIR8",
        "colab_type": "code",
        "colab": {}
      },
      "cell_type": "code",
      "source": [
        "# Reseta o indice, pois descartamos duas linhas\n",
        "df.reset_index(drop = True, inplace = True)"
      ],
      "execution_count": 0,
      "outputs": []
    },
    {
      "metadata": {
        "colab_type": "text",
        "id": "fAoIxa9TBX3s"
      },
      "cell_type": "markdown",
      "source": [
        "### Corrigindo formato de dados: <a name=\"astype\"></a>\n",
        "\n",
        "O último passo da correção de dados é checar se todos os dados estão no formato correto (`int, float, text ou outro`).\n",
        "\n",
        "Em Pandas, nós usamos:\n",
        "> **.dtype()** para verificar o tipo do dado \\\n",
        "> **.astype()** para modificar o tipo do dado"
      ]
    },
    {
      "metadata": {
        "colab_type": "code",
        "id": "cmaGLwRWCLEV",
        "colab": {}
      },
      "cell_type": "code",
      "source": [
        "df.dtypes"
      ],
      "execution_count": 0,
      "outputs": []
    },
    {
      "metadata": {
        "colab_type": "text",
        "id": "tWb8bAVJCHUE"
      },
      "cell_type": "markdown",
      "source": [
        "Os tipos de cada coluna dependem de suas variáveis. O formato correto deveria seguir a seguinte ideia:\n",
        "> Variáveis numéricas devem ser do tipo `int` ou `float` \\\n",
        "> Variáveis com `strings` devem ser do tipo `object`\n",
        "\n",
        "Sabendo disso, é possível observar que algumas colunas possuem o tipo de dado errado, como é o caso `'bore'` e `'price'` que deveriam ser variáveis numéricas.\n",
        "\n",
        "\n",
        "```\n",
        ">> df['price'].head()\n",
        "    0    13495\n",
        "    1    16500\n",
        "    2    16500\n",
        "    3    13950\n",
        "    4    17450\n",
        "    Name: price, dtype: object\n",
        "\n",
        "```\n",
        "\n",
        "Agora utilize o método **.astype()** para acertar todas as colunas* que estejam com os tipos errados!\n",
        "\n",
        "---\n",
        "\n",
        "\n",
        "\n",
        ">'bore', 'stroke', 'price', 'peak-rpm' **$\\to$ float** \\\n",
        ">'normalized-losses', 'horsepower' **$\\to$ int**\n",
        "\n",
        "\n"
      ]
    },
    {
      "metadata": {
        "id": "xdCzyzjiEYbq",
        "colab_type": "code",
        "colab": {}
      },
      "cell_type": "code",
      "source": [
        "############################################################################\n",
        "# TODO: Faca as correcoes sugeridas acima                                  #\n",
        "############################################################################\n",
        "pass\n",
        "############################################################################\n",
        "#               END OF YOUR CODE                                           #\n",
        "############################################################################\n",
        "\n",
        "df.dtypes\n"
      ],
      "execution_count": 0,
      "outputs": []
    },
    {
      "metadata": {
        "id": "BTsuK1JhzEau",
        "colab_type": "text"
      },
      "cell_type": "markdown",
      "source": [
        "## Padronização dos dados<a name=\"padronizacao\"></a>"
      ]
    },
    {
      "metadata": {
        "id": "S9zRl8Ln22RD",
        "colab_type": "text"
      },
      "cell_type": "markdown",
      "source": [
        "Os dados geralmente são coletados de diferentes agências com diferentes formatos. (Padronização de dados também é um termo para um tipo particular de normalização de dados, onde subtraímos a média e dividimos pelo desvio padrão)\n",
        "\n",
        "**O que é padronização?**\n",
        "\n",
        "Padronização é o processo de transformar dados em um formato comum que permite ao pesquisador fazer uma comparação significativa.\n",
        "\n",
        "**Exemplo:**\n",
        "\n",
        "-> Transforme o mpg em L / 100km:\n",
        "\n",
        "> Em nosso conjunto de dados, as colunas de consumo de combustível \"city-mpg\" e \"highway-mpg\" são representadas por unidades de mpg (milhas por galão). Suponha que estamos desenvolvendo uma aplicação em um país que aceita o consumo de combustível com o padrão L / 100km.\n",
        "\n",
        "**Questão:**  Converta os dados das colunas \"city-mpg\" e \"highway-mpg\" de mpg para L/100km $^{[1]}$\n",
        "\n",
        "---\n",
        "$^{[1]}$ A fórmula para conversão de unidade é L/100km = 235/mpg"
      ]
    },
    {
      "metadata": {
        "id": "JauS9S-p4kh_",
        "colab_type": "code",
        "colab": {}
      },
      "cell_type": "code",
      "source": [
        "############################################################################\n",
        "# TODO: Converta as unidades das colunas \"city-mpg\" e \"highway-mpg\" de mpg #\n",
        "# para L/100km. Para isso, crie as colunas \"city-L/100km\" e \"highway-mpg\". #\n",
        "############################################################################\n",
        "pass\n",
        "############################################################################\n",
        "#               END OF YOUR CODE                                           #\n",
        "############################################################################\n",
        "\n",
        "df[[\"city-mpg\", \"highway-mpg\", \"city-L/100km\", \"highway-L/100km\"]].head(3)"
      ],
      "execution_count": 0,
      "outputs": []
    },
    {
      "metadata": {
        "id": "tHuDBEdk2jpb",
        "colab_type": "text"
      },
      "cell_type": "markdown",
      "source": [
        "## Normalização dos dados<a name=\"normalizacao\"></a>"
      ]
    },
    {
      "metadata": {
        "id": "n8AlNvW8220B",
        "colab_type": "text"
      },
      "cell_type": "markdown",
      "source": [
        "**Por que normalização?**\n",
        "\n",
        "Normalização é o processo de transformar valores de diversas variáveis em um intervalo similar. Normalizações típicas incluem escalonar a variável de modo que :\n",
        " - a média da variável seja 0;\n",
        " - a variância da variável seja 1;\n",
        " - os valores da variável variem de 0 a 1\n",
        "\n",
        "**Exemplo:**\n",
        "\n",
        "Para demonstrar a normalização, digamos que queremos escalar as colunas \"length\", \"width\" e \"height\"\n",
        "\n",
        "> **Objetivo:** Gostaríamos de normalizar essas variáveis para que seu valor varie de 0 a 1.\n",
        "\n",
        "> **Abordagem:** substituir o valor original por $z_i= \\frac{x_i−min(x)}{max(x)−min(x)}$"
      ]
    },
    {
      "metadata": {
        "id": "ZpD_HUjs5rWt",
        "colab_type": "code",
        "colab": {}
      },
      "cell_type": "code",
      "source": [
        "############################################################################\n",
        "# TODO: Normalize os dados das colunas \"length\", \"width\" e \"height\" entre  #\n",
        "# 0 e 1.                                                                   #\n",
        "############################################################################\n",
        "pass\n",
        "############################################################################\n",
        "#               END OF YOUR CODE                                           #\n",
        "############################################################################\n",
        "\n",
        "print(df[[\"length\", \"width\", \"height\"]].head(3))\n",
        "df[[\"length\", \"width\", \"height\"]].describe()"
      ],
      "execution_count": 0,
      "outputs": []
    },
    {
      "metadata": {
        "id": "mVDOMsUK2pgr",
        "colab_type": "text"
      },
      "cell_type": "markdown",
      "source": [
        "## _Binning_<a name=\"binning\"></a>"
      ]
    },
    {
      "metadata": {
        "id": "wKzLOonN23Pq",
        "colab_type": "text"
      },
      "cell_type": "markdown",
      "source": [
        "**O que é _Binning_?**\n",
        "\n",
        "_Binning_ é um processo de transformação de variáveis numéricas contínuas em classes discretos e categóricas, para análises agrupadas.\n",
        "\n",
        "**Exemplo:**\n",
        "\n",
        "Em nosso conjunto de dados, \"horsepower\" é uma variável de valor real variando de 48 a 288, possui 57 valores únicos. E se apenas nos importarmos com a diferença de preço entre carros com alta potência, média potência e baixa potência (3 tipos)? Podemos rearranjá-los em três classes para simplificar a análise?\n",
        "\n",
        "Vamos usar o método Pandas **`.cut`** para segmentar a coluna \"horsepower\" em 3 grupos.\n"
      ]
    },
    {
      "metadata": {
        "id": "-eM_hTV_EoW6",
        "colab_type": "code",
        "colab": {}
      },
      "cell_type": "code",
      "source": [
        "from numpy import arange\n",
        "\n",
        "# Calcular a \"largura\" das classes\n",
        "bin_width = (max(df[\"horsepower\"])-min(df[\"horsepower\"]))/4\n",
        "print(bin_width)\n",
        "\n",
        "# Encontrar as faixas de valores de cada classe\n",
        "bins = arange(min(df[\"horsepower\"]), max(df[\"horsepower\"]), bin_width)\n",
        "print(bins)\n",
        "\n",
        "# Define as classes\n",
        "group_names = ['Low', 'Medium', 'High']\n",
        "\n",
        "# Agrupamos a coluna \"horsepower\" de acordo com as classes criadas\n",
        "df[\"horsepower-binned\"] = pd.cut(df[\"horsepower\"], bins, labels=group_names, \n",
        "                                 include_lowest=True)\n",
        "\n",
        "df[[\"horsepower\",\"horsepower-binned\"]].head(20)"
      ],
      "execution_count": 0,
      "outputs": []
    },
    {
      "metadata": {
        "id": "RMHj_Z-T2pXJ",
        "colab_type": "text"
      },
      "cell_type": "markdown",
      "source": [
        "## Correlação<a name=\"correlacao\"></a>"
      ]
    },
    {
      "metadata": {
        "id": "emlA68k_23oK",
        "colab_type": "text"
      },
      "cell_type": "markdown",
      "source": [
        "A primeira coisa que faremos agora é verificar a correlação$^{[1]}$ entre as variáveis (colunas) do DataFrame. Para isso utilizaremos o método **`df.corr()`**\n",
        "\n",
        "---\n",
        "> $^{[1]}$ Na estatística o coeficiente de correlação de Pearson (r), que também é chamado de coeficiente de correlação produto-momento, mede a relação que existe entre duas variáveis dentro de uma mesma escala métrica.\n",
        "\n",
        "> A função do coeficiente de correlação é determinar qual é a intensidade da relação que existe entre conjuntos de dados ou informações conhecidas.\n",
        "\n",
        "> O valor do coeficiente de correlação pode variar entre -1 e 1 e o resultado obtido define se a correlação é negativa ou positiva.\n",
        "\n",
        "> Para interpretar o coeficiente é preciso saber que 1 significa que a correlação entre as variáveis é perfeita positiva e -1 significa que é perfeita negativa. Se o coeficiente for igual a 0 significa que as variáveis não dependem uma da outra.\n",
        "\n",
        "![corr](https://upload.wikimedia.org/wikipedia/commons/thumb/d/d4/Correlation_examples2.svg/800px-Correlation_examples2.svg.png)"
      ]
    },
    {
      "metadata": {
        "id": "XE6yw_H4zD3h",
        "colab_type": "code",
        "colab": {}
      },
      "cell_type": "code",
      "source": [
        "df.corr()"
      ],
      "execution_count": 0,
      "outputs": []
    },
    {
      "metadata": {
        "id": "exf1CT6eKNGu",
        "colab_type": "text"
      },
      "cell_type": "markdown",
      "source": [
        "A partir de agora, veremos alguns métodos para visualizar a relação entre esses dados. Em particular, veremos a relação entre o preço e as demais variáveis."
      ]
    },
    {
      "metadata": {
        "id": "bvU4d3IXKtxP",
        "colab_type": "code",
        "colab": {}
      },
      "cell_type": "code",
      "source": [
        "# df[[\"engine-size\", \"highway-mpg\", \"compression-ratio\", \"price\"]].corr()\n",
        "df.corr()[\"price\"]"
      ],
      "execution_count": 0,
      "outputs": []
    },
    {
      "metadata": {
        "id": "4ZZijimbMpA9",
        "colab_type": "text"
      },
      "cell_type": "markdown",
      "source": [
        "### Gráfico de dispersão + Regressão Linear"
      ]
    },
    {
      "metadata": {
        "id": "Fxh3wpFsKLoF",
        "colab_type": "code",
        "colab": {}
      },
      "cell_type": "code",
      "source": [
        "import matplotlib.pyplot as plt\n",
        "import seaborn as sns\n",
        "%matplotlib inline"
      ],
      "execution_count": 0,
      "outputs": []
    },
    {
      "metadata": {
        "id": "Qu6ZW5bUNG8V",
        "colab_type": "text"
      },
      "cell_type": "markdown",
      "source": [
        "#### Correlação positiva:"
      ]
    },
    {
      "metadata": {
        "id": "I6n_4SUqLQPh",
        "colab_type": "code",
        "colab": {}
      },
      "cell_type": "code",
      "source": [
        "sns.regplot(x=\"engine-size\", y=\"price\", data=df)\n",
        "plt.ylim(0,)"
      ],
      "execution_count": 0,
      "outputs": []
    },
    {
      "metadata": {
        "id": "daSlu6AfNK9Y",
        "colab_type": "text"
      },
      "cell_type": "markdown",
      "source": [
        "#### Correlação negativa:"
      ]
    },
    {
      "metadata": {
        "id": "RjwDDEDFKfIl",
        "colab_type": "code",
        "colab": {}
      },
      "cell_type": "code",
      "source": [
        "sns.regplot(x=\"highway-mpg\", y=\"price\", data=df)"
      ],
      "execution_count": 0,
      "outputs": []
    },
    {
      "metadata": {
        "id": "J03524pANMwv",
        "colab_type": "text"
      },
      "cell_type": "markdown",
      "source": [
        "#### Correlação próxima de zero:"
      ]
    },
    {
      "metadata": {
        "id": "-OS6pU-IKe7a",
        "colab_type": "code",
        "colab": {}
      },
      "cell_type": "code",
      "source": [
        "sns.regplot(x=\"compression-ratio\", y=\"price\", data=df)"
      ],
      "execution_count": 0,
      "outputs": []
    },
    {
      "metadata": {
        "id": "JpVr9SJKNPSb",
        "colab_type": "text"
      },
      "cell_type": "markdown",
      "source": [
        "### Diagrama de caixa"
      ]
    },
    {
      "metadata": {
        "id": "FNAMfStcNZkR",
        "colab_type": "code",
        "colab": {}
      },
      "cell_type": "code",
      "source": [
        "sns.boxplot(x=\"body-style\", y=\"price\", data=df)"
      ],
      "execution_count": 0,
      "outputs": []
    },
    {
      "metadata": {
        "id": "MctHHAYOu-PP",
        "colab_type": "text"
      },
      "cell_type": "markdown",
      "source": [
        "---\n",
        "\n",
        "Tem outra parte ainda?!\n",
        "---\n",
        "\n",
        "![a](https://media.giphy.com/media/PV7CZGyKghri0/giphy.gif)\n"
      ]
    },
    {
      "metadata": {
        "colab_type": "text",
        "id": "LsLuDOiWhY5e"
      },
      "cell_type": "markdown",
      "source": [
        "---\n",
        "## Dicas e observações:<a name=\"dicas\"></a>\n",
        "\n",
        "### Utilizando o Google  Colaboratory:\n",
        "\n",
        "#### 1. Comandos no terminal:\n",
        "Para utilizar qualquer comando no terminal, comece com um **`!`**. Por exemplo, para mostrar os arquivos do diretório atual utilize\n",
        "\n",
        "```sh\n",
        "!ls\n",
        "```\n",
        "\n",
        "#### 2. Baixar biliotecas:\n",
        "Em caso do módulo não estar instalado na máquina, utilize o comando \n",
        "\n",
        "```python\n",
        "!pip install nome_do_modulo\n",
        "```\n",
        "\n",
        "#### 3. Importando arquivos:\n",
        "Para importar arquivos da sua máquina para o Colaboratory, o comando abaixo pode ser útil\n",
        "```pyhon\n",
        "from google.colab import files\n",
        "uploaded = files.upload()\n",
        "```\n",
        "\n",
        "Para importar de seu drive, o comando abaixo pode ser útil\n",
        "\n",
        "\n",
        "```python\n",
        "!apt-get install -y -qq software-properties-common python-software-properties module-init-tools\n",
        "!add-apt-repository -y ppa:alessandro-strada/ppa 2>&1 > /dev/null\n",
        "!apt-get update -qq 2>&1 > /dev/null\n",
        "!apt-get -y install -qq google-drive-ocamlfuse fuse\n",
        "from google.colab import auth\n",
        "auth.authenticate_user()\n",
        "from oauth2client.client import GoogleCredentials\n",
        "creds = GoogleCredentials.get_application_default()\n",
        "import getpass\n",
        "!google-drive-ocamlfuse -headless -id={creds.client_id} -secret={creds.client_secret} < /dev/null 2>&1 | grep URL\n",
        "vcode = getpass.getpass()\n",
        "!echo {vcode} | google-drive-ocamlfuse -headless -id={creds.client_id} -secret={creds.client_secret}\n",
        "\n",
        "!mkdir -p drive\n",
        "!google-drive-ocamlfuse drive\n",
        "```"
      ]
    },
    {
      "metadata": {
        "colab_type": "text",
        "id": "Vu-zYPuGj0pU"
      },
      "cell_type": "markdown",
      "source": [
        "## Referências: <a name=\"ref\"></a>\n",
        "\n",
        "### Livros:\n",
        "\n",
        "- [Python for Data Analysis, 2nd Edition](http://shop.oreilly.com/product/0636920050896.do)\n",
        "\n",
        "### Cursos onlines:\n",
        "- [Cognitive Class (IBM): *Applied Data Science with Python*](https://cognitiveclass.ai/learn/data-science-with-python/)\n"
      ]
    }
  ]
}