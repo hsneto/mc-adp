{
  "nbformat": 4,
  "nbformat_minor": 0,
  "metadata": {
    "colab": {
      "name": "word_clouds.ipynb",
      "version": "0.3.2",
      "provenance": [],
      "private_outputs": true,
      "collapsed_sections": []
    },
    "kernelspec": {
      "display_name": "Python 3",
      "language": "python",
      "name": "python3"
    }
  },
  "cells": [
    {
      "metadata": {
        "colab_type": "text",
        "id": "ZH21s64vjTQd"
      },
      "cell_type": "markdown",
      "source": [
        "# Análise de Dados com Python - Word Clouds"
      ]
    },
    {
      "metadata": {
        "colab_type": "text",
        "id": "mTzSjtLqjTHG"
      },
      "cell_type": "markdown",
      "source": [
        "**Minicurso:** Análise de Dados com Python\n",
        "\n",
        "**Instrutor:** Humberto da Silva Neto"
      ]
    },
    {
      "metadata": {
        "colab_type": "text",
        "id": "cTGCJmIxjS47"
      },
      "cell_type": "markdown",
      "source": [
        "**Aluno:** "
      ]
    },
    {
      "metadata": {
        "colab_type": "text",
        "id": "-5MGp0H2kmWr"
      },
      "cell_type": "markdown",
      "source": [
        "---"
      ]
    },
    {
      "metadata": {
        "colab_type": "code",
        "id": "U_82zHWLsnnd",
        "colab": {}
      },
      "cell_type": "code",
      "source": [
        "import matplotlib.pyplot as plt"
      ],
      "execution_count": 0,
      "outputs": []
    },
    {
      "metadata": {
        "colab_type": "text",
        "id": "U9ymhJyxjru8"
      },
      "cell_type": "markdown",
      "source": [
        "**Word clouds** (também conhecidas como nuvens de texto ou nuvens de tags) funcionam de uma forma simples: quanto mais uma palavra específica aparece em uma fonte de dados textuais (como um discurso, um blog ou um banco de dados), maior e mais arrojada aparece na nuvem de palavras.\n"
      ]
    },
    {
      "metadata": {
        "colab_type": "text",
        "id": "VQqZO6CIkq16"
      },
      "cell_type": "markdown",
      "source": [
        "Felizmente, já existe uma biblioteca em Python para gerar essa *nuvens de palavra*. A biblioteca, chamada **`word_cloud`** foi desenvolvida por Andreas Mueller. Você pode aprender mais sobre a biblioteca seguindo este [link](https://github.com/amueller/word_cloud/).\n",
        "\n",
        "Vamos usar essa biblioteca para aprender como gerar uma nuvem de palavras para um determinado documento de texto.\n",
        "\n",
        "Para isso, antes installe a biblioteca com o comando:\n",
        "\n",
        "```sh\n",
        "!pip install wordcloud\n",
        "```"
      ]
    },
    {
      "metadata": {
        "colab_type": "code",
        "id": "2onxST1pi6tV",
        "colab": {}
      },
      "cell_type": "code",
      "source": [
        "# instale a biblioteca wordcloud\n",
        "!pip install wordcloud"
      ],
      "execution_count": 0,
      "outputs": []
    },
    {
      "metadata": {
        "colab_type": "text",
        "id": "1lP3-WaLlMWN"
      },
      "cell_type": "markdown",
      "source": [
        "Agora import a biblioteca com o comando abaixo:\n",
        "\n",
        "```python\n",
        "from wordcloud import WordCloud, STOPWORDS\n",
        "```"
      ]
    },
    {
      "metadata": {
        "colab_type": "code",
        "id": "JIzuG8G5lNFs",
        "colab": {}
      },
      "cell_type": "code",
      "source": [
        "# importe a biblioteca\n",
        "from wordcloud import WordCloud, STOPWORDS\n",
        "\n",
        "print('Wordcloud foi instalado e importado!')"
      ],
      "execution_count": 0,
      "outputs": []
    },
    {
      "metadata": {
        "colab_type": "text",
        "id": "DftWhvyZlMM0"
      },
      "cell_type": "markdown",
      "source": [
        "Wordcloud são comumente usadas para executar análises de alto nível e visualização de dados de texto. De acordo, vamos fazer uma digressão do conjunto de dados de imigração e trabalhar com um exemplo que envolve a análise de dados de texto. \n",
        "\n",
        "Vamos tentar analisaro sétimo livro da série Harry Potter, escrito pela autora britânica J. K. Rowling, \"**Harry Potter and the Deathly Hallows** (em português, Harry Potter e as Relíquias da Morte)\""
      ]
    },
    {
      "metadata": {
        "colab_type": "text",
        "id": "Crq_oJexn5vq"
      },
      "cell_type": "markdown",
      "source": [
        "Para isso, iremos precisaremos baixar o arquivo .txt do livro."
      ]
    },
    {
      "metadata": {
        "colab_type": "code",
        "id": "BoR4zWNZnODq",
        "colab": {}
      },
      "cell_type": "code",
      "source": [
        "import codecs\n",
        "\n",
        "# download do arquivo\n",
        "!wget https://raw.githubusercontent.com/hsneto/py-pandas-minicourse/master/datasets/Harry%20Potter%20and%20the%20Deathly%20Hallows.txt -O harry_potter.txt\n",
        "  \n",
        "# abra o arquivo e leia-o em uma variável hp\n",
        "hp = codecs.open('harry_potter.txt', 'r', encoding='utf-8', errors='ignore').read()\n",
        "\n",
        "print('Arquivo baixado e carregado')"
      ],
      "execution_count": 0,
      "outputs": []
    },
    {
      "metadata": {
        "colab_type": "text",
        "id": "X_kK4U3vsN4B"
      },
      "cell_type": "markdown",
      "source": [
        "Crie um objeto **wordcloud** e gere uma nuvem de palavras. Por simplicidade, vamos gerar uma nuvem de palavras usando apenas as primeiras 5000 palavras do romance."
      ]
    },
    {
      "metadata": {
        "colab_type": "code",
        "id": "xGJ87eCMr4ZV",
        "colab": {}
      },
      "cell_type": "code",
      "source": [
        "# instanciar um objeto de nuvem de palavras\n",
        "hp_wc = WordCloud(\n",
        "    background_color='white',\n",
        "    max_words=5000,\n",
        "    stopwords=STOPWORDS\n",
        ")\n",
        "\n",
        "# gerar a nuvem de palavras\n",
        "hp_wc.generate(hp)"
      ],
      "execution_count": 0,
      "outputs": []
    },
    {
      "metadata": {
        "colab_type": "code",
        "id": "jWG3WvC6skLY",
        "colab": {}
      },
      "cell_type": "code",
      "source": [
        "# exibir a nuvem de palavras\n",
        "\n",
        "plt.imshow(hp_wc, interpolation='bilinear')\n",
        "plt.axis('off')\n",
        "plt.show()"
      ],
      "execution_count": 0,
      "outputs": []
    },
    {
      "metadata": {
        "colab_type": "text",
        "id": "2U-Iamv_dX_D"
      },
      "cell_type": "markdown",
      "source": [
        "É possível notar que as palavras mais comuns (entre as 5000 primeiras) são Harry, Ron e Hermione. Agora, vamos supor que algumas das palavras destacadas não são  muito informativas ou do meu interesse, é possível associar essa palavra ao conjunto **STOPWORDS**$^{[1]}$ para que essa seja ignorada.\n",
        "\n",
        "Por exemplo, vamos ignorar uma palavra de destaque como **now**. Para isso usaremos o comando:\n",
        "\n",
        "```python\n",
        "STOPWORDS.add('now')`\n",
        "```\n",
        "\n",
        "e iremos gerar a nuvem de palavras de novo. \n",
        "\n",
        "---\n",
        "$^{[1]}$ Para conferir as palavras  padrões do conjunto **STOPWORDS** clique [aqui](https://github.com/amueller/word_cloud/blob/master/wordcloud/stopwords)."
      ]
    },
    {
      "metadata": {
        "colab_type": "code",
        "id": "VVIe4JGHe5U9",
        "colab": {}
      },
      "cell_type": "code",
      "source": [
        "STOPWORDS.add('now')\n",
        "\n",
        "# instanciar um objeto de nuvem de palavras\n",
        "hp_wc = WordCloud(\n",
        "    background_color='white',\n",
        "    max_words=5000,\n",
        "    stopwords=STOPWORDS\n",
        ")\n",
        "\n",
        "# gerar a nuvem de palavras\n",
        "hp_wc.generate(hp)\n",
        "\n",
        "# exibir a nuvem de palavras\n",
        "\n",
        "plt.imshow(hp_wc, interpolation='bilinear')\n",
        "plt.axis('off')\n",
        "plt.show()"
      ],
      "execution_count": 0,
      "outputs": []
    },
    {
      "metadata": {
        "colab_type": "text",
        "id": "7f0UJvFzdX8e"
      },
      "cell_type": "markdown",
      "source": [
        "Como esperado, não encontramos a palavra **now** na nuvem agora."
      ]
    },
    {
      "metadata": {
        "colab_type": "text",
        "id": "G6hwGfUEdX52"
      },
      "cell_type": "markdown",
      "source": [
        "Excelente! Outra coisa legal que você pode implementar com a biblioteca **`word_cloud`** é sobrepor as palavras em uma máscara de qualquer forma.\n",
        "\n",
        "Já que estamos usando um livro de Harry Potter, nada mais justo que usar máscaras relacionadas ao tema. Para isso eu preparei uma função chamada de **`get_bw_img`**. Essa função  para preparar essa máscara em função de uma imagem online. \n",
        "\n",
        "A função recebe como argumento o url de uma imagem e retorna uma máscara (uma imagem binarizada, ou seja, em preto e branco) da mesma.\n",
        "\n",
        "---\n",
        "*Obs.: Para o nosso objetivo, tenha em mente em que as palavras da nuvem estarão dispostas na parte preta da máscara.*\n",
        "\n"
      ]
    },
    {
      "metadata": {
        "colab_type": "code",
        "id": "-bQ6reAsysn_",
        "colab": {}
      },
      "cell_type": "code",
      "source": [
        "import urllib.request\n",
        "from numpy import asarray, ones, uint8\n",
        "from cv2 import imdecode, dilate, threshold, THRESH_BINARY, THRESH_OTSU\n",
        "\n",
        "def get_bw_img(url, kernel_size=None, inv=False, show=False):\n",
        "  '''\n",
        "  Return a black and white image from a url link.\n",
        "  \n",
        "  Args:\n",
        "    url (str)           --> link to the image.\n",
        "    kernel_size (tupla) --> kernel size to dilate the image.\n",
        "    inv (bool)          --> invert black and white colors\n",
        "    show (bool)         --> plot both, the input (greyscale) and output image\n",
        "  '''\n",
        "  \n",
        "  def url_to_image(url):\n",
        "    # download the image, convert it to a NumPy array, and then read\n",
        "    # it into OpenCV format\n",
        "    resp = urllib.request.urlopen(url)\n",
        "    image = asarray(bytearray(resp.read()), dtype=\"uint8\")\n",
        "    image = imdecode(image, 0) # 0 to load grayscale image\n",
        "\n",
        "    # return the image\n",
        "    return image\n",
        "  \n",
        "  def img2bw(img, inv=True):\n",
        "    # apply Otsu's thresholding\n",
        "    _,th2 = threshold(img,0,255,THRESH_BINARY + THRESH_OTSU)\n",
        "    return th2\n",
        "  \n",
        "  img = url_to_image(url)\n",
        "  bw_img = img2bw(img, inv)\n",
        "  \n",
        "  if kernel_size is not None:\n",
        "    kernel = ones(kernel_size, uint8)\n",
        "    bw_img = dilate(bw_img, kernel,iterations = 1)\n",
        "    \n",
        "  if inv:\n",
        "    bw_img = 255-bw_img\n",
        "  \n",
        "  if show:\n",
        "    # plot the output image\n",
        "    plt.subplot(121)\n",
        "    plt.imshow(img, cmap=plt.cm.gray, interpolation='bilinear')\n",
        "    plt.subplot(122)\n",
        "    plt.imshow(bw_img, cmap=plt.cm.gray, interpolation='bilinear')\n",
        "    plt.show()\n",
        "\n",
        "  return bw_img"
      ],
      "execution_count": 0,
      "outputs": []
    },
    {
      "metadata": {
        "colab_type": "code",
        "id": "QVkIdIOey-uA",
        "colab": {}
      },
      "cell_type": "code",
      "source": [
        "mask1 = get_bw_img(url='http://cdn.shopify.com/s/files/1/2597/5112/products/hptvthogjt_1_1024x1024.jpg?v=1517442756', \n",
        "                 kernel_size=(25,25), \n",
        "                 inv=True, \n",
        "                 show=True)\n",
        "\n",
        "mask2 = get_bw_img(url='https://images.ctfassets.net/bxd3o8b291gf/3SQ3X2km8wkQIsQWa02yOY/25f258f21bdbe5f552a4419bb775f4f0/HarryPotter_WB_F4_HarryPotterMidshot_Promo_080615_Port.jpg?w=1200', \n",
        "                 kernel_size=None, \n",
        "                 inv=False, \n",
        "                 show=True)"
      ],
      "execution_count": 0,
      "outputs": []
    },
    {
      "metadata": {
        "colab_type": "text",
        "id": "NJSqQ9doh_Xz"
      },
      "cell_type": "markdown",
      "source": [
        "Agora iremos visualizar a nuvem em cima das máscaras criadas acima. Caso você tenha interesse em controlar a palheta de cores das palavras plotadas, sinta-se livre para alterar o argumento **colormap**. \n",
        "\n",
        "Os links abaixo contém exemplos das palhetas de cores disponíveis:\n",
        "\n",
        "- [link1](https://matplotlib.org/examples/color/colormaps_reference.html)\n",
        "- [link2](https://matplotlib.org/users/colormaps.html)"
      ]
    },
    {
      "metadata": {
        "colab_type": "code",
        "id": "_LgEzOoJzCp9",
        "colab": {}
      },
      "cell_type": "code",
      "source": [
        "# instanciar um objeto de nuvem de palavras\n",
        "hp_wc_1 = WordCloud(background_color='black', max_words=5000, \n",
        "                    mask=mask1, stopwords=STOPWORDS, colormap=plt.cm.BuPu)\n",
        "\n",
        "hp_wc_2 = WordCloud(mode='RGBA', background_color=None, max_words=5000, \n",
        "                    mask=mask2, stopwords=STOPWORDS, colormap=plt.cm.flag)\n",
        "\n",
        "# gerar a nuvem de palavras\n",
        "hp_wc_1.generate(hp)\n",
        "hp_wc_2.generate(hp)\n",
        "\n",
        "# exibir a nuvem de palavras\n",
        "plt.subplot(121)\n",
        "plt.imshow(hp_wc_1, interpolation='bilinear')\n",
        "plt.axis('off')\n",
        "\n",
        "plt.subplot(122)\n",
        "plt.imshow(hp_wc_2, interpolation='bilinear')\n",
        "plt.axis('off')\n",
        "\n",
        "plt.show()"
      ],
      "execution_count": 0,
      "outputs": []
    }
  ]
}