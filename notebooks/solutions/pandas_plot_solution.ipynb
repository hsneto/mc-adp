{
  "nbformat": 4,
  "nbformat_minor": 0,
  "metadata": {
    "colab": {
      "name": "pandas_plot_solution.ipynb",
      "version": "0.3.2",
      "provenance": [],
      "private_outputs": true,
      "collapsed_sections": []
    },
    "kernelspec": {
      "name": "python3",
      "display_name": "Python 3"
    }
  },
  "cells": [
    {
      "metadata": {
        "colab_type": "text",
        "id": "N4gK80ETXinB"
      },
      "cell_type": "markdown",
      "source": [
        "# Minicurso: Análise e Manipulação de Dados com Python: Parte 2"
      ]
    },
    {
      "metadata": {
        "colab_type": "text",
        "id": "QAxmN0NFfDzl"
      },
      "cell_type": "markdown",
      "source": [
        "**Minicurso:** Análise e Manipulação de Dados com Python\n",
        "\n",
        "**Instrutor:** Humberto da Silva Neto"
      ]
    },
    {
      "metadata": {
        "colab_type": "text",
        "id": "qv3tR7oHfWWZ"
      },
      "cell_type": "markdown",
      "source": [
        "**Aluno:** "
      ]
    },
    {
      "metadata": {
        "colab_type": "text",
        "id": "IVhqk5oKXzLu"
      },
      "cell_type": "markdown",
      "source": [
        "## Tabela de conteúdos:\n",
        "\n",
        "### [Parte 1:](https://github.com/hsneto/py-pandas-minicourse/blob/master/notebooks/pandas_basic.ipynb)\n",
        "\n",
        "1. Introdução ao Pandas\n",
        "\n",
        "2. Correção dos dados\n",
        " - Identificando e lidando com valores ausentes\n",
        " - Corrigindo os tipos dos dados\n",
        " \n",
        "3. Padronização de dados\n",
        " \n",
        "4. Normalização de dados\n",
        " \n",
        "5. _Binning_\n",
        " \n",
        "6. Correlação\n",
        "\n",
        "### Parte 2:\n",
        "7. [Preparando os dados](#prep)\n",
        "8. [Visualização de dados usando Matplotlib](#visualizacao)\n",
        " - [Gráficos de Linha](#line-plots)\n",
        " - [Gráficos de Área](#area-plots)\n",
        " - [Histogramas](#hist-plots)\n",
        " - [Gráficos de Barras](#bar-plots)\n",
        " - [Gráficos de Pizza](#pie-plots)\n",
        " - [Diagrama de Caixa](#box-plots)\n",
        " - [Gráfico de Dispersão](#scatter-plots)\n",
        "\n",
        "### Outros:\n",
        "\n",
        "- [Dicas e observações](#dicas)\n",
        "- [Referências](#ref)"
      ]
    },
    {
      "metadata": {
        "id": "Q_FxOat1_Slq",
        "colab_type": "text"
      },
      "cell_type": "markdown",
      "source": [
        "## Preparando os dados<a name=\"prep\"></a>"
      ]
    },
    {
      "metadata": {
        "id": "leXS52w-_Slu",
        "colab_type": "text"
      },
      "cell_type": "markdown",
      "source": [
        "### The Dataset: Immigration to Canada from 1980 to 2013<a name=\"dataset\"></a>\n",
        "\n",
        "![image](https://raw.githubusercontent.com/hsneto/mc-adp/master/docs/canada-dataset.png)\n",
        "\n",
        "Dataset Source: [International migration flows to and from selected countries - The 2015 revision](http://www.un.org/en/development/desa/population/migration/data/empirical2/migrationflows.shtml).\n",
        "\n",
        "O conjunto de dados contém dados anuais sobre os fluxos de imigrantes internacionais, conforme registrados pelos países de destino. Os dados apresentam entradas e saídas de acordo com o local de nascimento, cidadania ou local de residência anterior / próxima para estrangeiros e nacionais. A versão atual apresenta dados referentes a 45 países.\n",
        "\n",
        "Neste laboratório, nos concentraremos nos dados de imigração do Canadá."
      ]
    },
    {
      "metadata": {
        "colab_type": "code",
        "id": "fpYVU_7WnnnV",
        "colab": {}
      },
      "cell_type": "code",
      "source": [
        "from __future__ import print_function\n",
        "\n",
        "import pandas as pd\n",
        "import numpy as np"
      ],
      "execution_count": 0,
      "outputs": []
    },
    {
      "metadata": {
        "id": "gnDme4-N_byQ",
        "colab_type": "code",
        "colab": {}
      },
      "cell_type": "code",
      "source": [
        "# Instale o modulo requerido para para ler arquivos de excel\n",
        "!pip install xlrd\n",
        "print(\"xlrd instalado!\")"
      ],
      "execution_count": 0,
      "outputs": []
    },
    {
      "metadata": {
        "id": "HUHw9NL1_Sl9",
        "colab_type": "code",
        "colab": {}
      },
      "cell_type": "code",
      "source": [
        "# Lendo o arquivo .xlsx\n",
        "xlxs = pd.ExcelFile(\"https://ibm.box.com/shared/static/lw190pt9zpy5bd1ptyg2aw15awomz9pu.xlsx\")\n",
        "df = pd.read_excel(xlxs, sheet_name=\"Canada by Citizenship\", \n",
        "                   skiprows=range(20), skipfooter=2)\n",
        "\n",
        "\n",
        "df.head(2)"
      ],
      "execution_count": 0,
      "outputs": []
    },
    {
      "metadata": {
        "id": "Zt9EBh15_SmM",
        "colab_type": "code",
        "colab": {}
      },
      "cell_type": "code",
      "source": [
        "# Verifique as informacoes do dataframe\n",
        "df.info()"
      ],
      "execution_count": 0,
      "outputs": []
    },
    {
      "metadata": {
        "id": "9XUzsaJY_SmX",
        "colab_type": "text"
      },
      "cell_type": "markdown",
      "source": [
        "### Correção da tabela<a name=\"clean\"></a>"
      ]
    },
    {
      "metadata": {
        "id": "GeHybubH_Smb",
        "colab_type": "text"
      },
      "cell_type": "markdown",
      "source": [
        "Vamos limpar o conjunto de dados para remover algumas colunas desnecessárias. Podemos usar o método pandas [**`df.drop()`**](https://pandas.pydata.org/pandas-docs/stable/generated/pandas.DataFrame.drop.html)$^{[1]}$ da seguinte maneira:\n",
        "\n",
        "```python\n",
        "DataFrame.drop(labels=None, axis=0, index=None, columns=None, level=None, inplace=False, errors='raise')\n",
        "```\n",
        "\n",
        "---\n",
        "$^{[1]}$_**Parameters:**_\n",
        "\n",
        "_**labels:** single label or list-like_\n",
        "> _Index or column labels to drop._\n",
        "\n",
        "_**axis:** {0 or ‘index’, 1 or ‘columns’}, default 0_\n",
        "> _Whether to drop labels from the index (0 or ‘index’) or columns (1 or ‘columns’)._\n",
        "\n",
        "_**index, columns:** single label or list-like_\n",
        "> _Alternative to specifying axis (labels, axis=1 is equivalent to columns=labels)._\n",
        "\n",
        "_**level:** int or level name, optional_\n",
        "> _For MultiIndex, level from which the labels will be removed._\n",
        "\n",
        "_**inplace:** bool, default False_\n",
        "> _If True, do operation inplace and return None._\n",
        "\n",
        "_**errors:** {‘ignore’, ‘raise’}, default ‘raise’_\n",
        "> _If ‘ignore’, suppress error and only existing labels are dropped._\n"
      ]
    },
    {
      "metadata": {
        "id": "ZzMT2LRn_Sme",
        "colab_type": "code",
        "colab": {}
      },
      "cell_type": "code",
      "source": [
        "############################################################################\n",
        "# TODO: Remova as colunas: 'AREA','REG','DEV','Type','Coverage'            #\n",
        "############################################################################\n",
        "pass\n",
        "df.drop(['AREA','REG','DEV','Type','Coverage'], axis=1, inplace=True)\n",
        "############################################################################\n",
        "#                             END OF YOUR CODE                             #\n",
        "############################################################################\n",
        "\n",
        "# Verifique se as colunas foram removidas\n",
        "df.head(2)"
      ],
      "execution_count": 0,
      "outputs": []
    },
    {
      "metadata": {
        "id": "DryxEjKT_Sms",
        "colab_type": "text"
      },
      "cell_type": "markdown",
      "source": [
        "Vamos renomear as colunas para que façam sentido. Podemos usar o método [**`df.rename()`**](https://pandas.pydata.org/pandas-docs/stable/generated/pandas.DataFrame.rename.html) passando um dicionário de nomes antigos e novos da seguinte forma:\n",
        "\n",
        "```python\n",
        "DataFrame.rename(mapper=None, index=None, columns=None, axis=None, copy=True, inplace=False, level=None)\n",
        "```"
      ]
    },
    {
      "metadata": {
        "id": "AS4U7Kbn_Smu",
        "colab_type": "code",
        "colab": {}
      },
      "cell_type": "code",
      "source": [
        "############################################################################\n",
        "# TODO: Altere os nomes das seguintes colunas:                             #\n",
        "# - Odname   --> Country                                                   #\n",
        "# - AreaName --> Continent                                                 #\n",
        "# - RegName  --> Region                                                    #\n",
        "############################################################################\n",
        "pass\n",
        "df.rename(columns={'OdName':'Country', \n",
        "                   'AreaName':'Continent', \n",
        "                   'RegName':'Region'}, inplace=True)\n",
        "############################################################################\n",
        "#                             END OF YOUR CODE                             #\n",
        "############################################################################\n",
        "\n",
        "# Verifique os nomes das colunas\n",
        "df.columns"
      ],
      "execution_count": 0,
      "outputs": []
    },
    {
      "metadata": {
        "id": "FyOT7RUa_SnC",
        "colab_type": "text"
      },
      "cell_type": "markdown",
      "source": [
        "Também adicionaremos uma coluna `\"Total\"` que resume o total de imigrantes por país durante todo o período de 1980 a 2013.\n",
        "\n",
        "---\n",
        "Obs.: Esperamos os seguintes valores para as três primeiras linhas\n",
        "\n",
        "|   Country   | ... | Total |\n",
        "|:-----------:|:---:|-------|\n",
        "| Afghanistan | ... | 58639 |\n",
        "|   Albania   | ... | 15699 |\n",
        "|   Algeria   | ... | 69439 |"
      ]
    },
    {
      "metadata": {
        "id": "bMy1Qcvp_SnF",
        "colab_type": "code",
        "colab": {}
      },
      "cell_type": "code",
      "source": [
        "############################################################################\n",
        "# TODO: Crie uma coluna com o nome \"Total\" que representa a soma do numero # \n",
        "# de imigrantes de 1980 a 2013 para todos os países.                       #\n",
        "#                                                                          #\n",
        "# DICA: O comando dataframe.sum() pode ser util.                           #\n",
        "############################################################################\n",
        "pass\n",
        "df['Total'] = df.sum(axis=1)\n",
        "############################################################################\n",
        "#                             END OF YOUR CODE                             #\n",
        "############################################################################\n",
        "\n",
        "# Verifique a coluna criada\n",
        "df.head(2)"
      ],
      "execution_count": 0,
      "outputs": []
    },
    {
      "metadata": {
        "id": "tC8-8o-Y_SnS",
        "colab_type": "text"
      },
      "cell_type": "markdown",
      "source": [
        "Também é possível detectar valores ausentes do dataframe com os métodos [**`df.isnull()`**](https://pandas.pydata.org/pandas-docs/stable/generated/pandas.DataFrame.isnull.html) e [**`df.isna()`**](https://pandas.pydata.org/pandas-docs/stable/generated/pandas.DataFrame.isna.html). Com isso dito, determine quantos valores ausentes temos em nossa tabela."
      ]
    },
    {
      "metadata": {
        "id": "_dparUOt_SnV",
        "colab_type": "code",
        "colab": {}
      },
      "cell_type": "code",
      "source": [
        "############################################################################\n",
        "# TODO: Calcule quantos valores ausentes o dataframe possui                #\n",
        "############################################################################\n",
        "pass\n",
        "df.isnull().sum()\n",
        "############################################################################\n",
        "#                             END OF YOUR CODE                             #\n",
        "############################################################################"
      ],
      "execution_count": 0,
      "outputs": []
    },
    {
      "metadata": {
        "id": "P9U1W1bz_Sne",
        "colab_type": "text"
      },
      "cell_type": "markdown",
      "source": [
        "Finalmente, vamos ver um breve resumo de cada coluna em nosso dataframe usando o método [**`df.describe()`**](https://pandas.pydata.org/pandas-docs/stable/generated/pandas.DataFrame.describe.html)."
      ]
    },
    {
      "metadata": {
        "id": "iXcZwKt__Snh",
        "colab_type": "code",
        "colab": {}
      },
      "cell_type": "code",
      "source": [
        "# Gere estatísticas descritivas que resumem o dataframe\n",
        "df.describe()"
      ],
      "execution_count": 0,
      "outputs": []
    },
    {
      "metadata": {
        "id": "4xmaVXBD_Snu",
        "colab_type": "text"
      },
      "cell_type": "markdown",
      "source": [
        "### Indexação e Seleção<a name=\"clean\"></a>\n",
        "\n",
        "**Selecionando colunas:**\n",
        "\n",
        "Existem duas maneiras de filtrar um nome de coluna:\n",
        "\n",
        "**Método 1:** Rápido e fácil, mas só funciona se o nome da coluna **NÃO** tiver espaços ou caracteres especiais.\n",
        "```python\n",
        "     df.column_name\n",
        "         (retorna a série)\n",
        "```\n",
        "\n",
        "**Método 2:** mais robusto e pode filtrar em várias colunas.\n",
        "\n",
        "```python\n",
        "     df [\"coluna\"]\n",
        "         (retorna a série)\n",
        "```\n",
        "\n",
        "```python\n",
        "     df [[\"coluna 1\", \"coluna 2\"]]\n",
        "         (retorna o dataframe)\n",
        "```"
      ]
    },
    {
      "metadata": {
        "id": "tOxoC40LZO1B",
        "colab_type": "text"
      },
      "cell_type": "markdown",
      "source": [
        "Obs.: Utilize o comando **`print()`** para exibir os dados extraídos nos próximos exercícios!"
      ]
    },
    {
      "metadata": {
        "id": "hXwvF6an_Snx",
        "colab_type": "code",
        "colab": {}
      },
      "cell_type": "code",
      "source": [
        "print(\"###################################\")\n",
        "print(\"     pandas.core.series.Series     \")\n",
        "print(\"###################################\")\n",
        "\n",
        "print(\"\\nMETODO 1:\")\n",
        "############################################################################\n",
        "# TODO: Utilize o metodo 1 para selecionar a coluna \"Country\".             #\n",
        "#                                                                          #  \n",
        "# Verifique o tipo e os dados da Serie encontrada.                         #      \n",
        "############################################################################\n",
        "pass\n",
        "df_aux = df.Country\n",
        "\n",
        "print(type(df_aux))\n",
        "print(df_aux.head(2))\n",
        "############################################################################\n",
        "#                             END OF YOUR CODE                             #\n",
        "############################################################################\n",
        "\n",
        "\n",
        "print(\"\\nMETODO 2:\")\n",
        "############################################################################\n",
        "# TODO: Utilize o metodo 2 para selecionar a coluna \"Country\".             #\n",
        "#                                                                          #  \n",
        "# Verifique o tipo e os dados da Serie encontrada.                         #      \n",
        "############################################################################\n",
        "pass\n",
        "df_aux = df['Country']\n",
        "\n",
        "print(type(df_aux))\n",
        "print(df_aux.head(2))\n",
        "\n",
        "del df_aux\n",
        "############################################################################\n",
        "#                             END OF YOUR CODE                             #\n",
        "############################################################################"
      ],
      "execution_count": 0,
      "outputs": []
    },
    {
      "metadata": {
        "id": "bmyNjImk_Sn7",
        "colab_type": "code",
        "colab": {}
      },
      "cell_type": "code",
      "source": [
        "print(\"####################################\")\n",
        "print(\"    pandas.core.series.DataFrame    \")\n",
        "print(\"####################################\")\n",
        "\n",
        "############################################################################\n",
        "# TODO: Utilize o metodo 2 para selecionar a coluna \"Country\".             #\n",
        "#                                                                          #  \n",
        "# Verifique o tipo e os dados do Dataframe encontrado.                     #      \n",
        "############################################################################\n",
        "pass\n",
        "df_aux = df[['Country']]\n",
        "\n",
        "print(type(df_aux))\n",
        "print(df_aux.head(2), \"\\n\")\n",
        "############################################################################\n",
        "#                             END OF YOUR CODE                             #\n",
        "############################################################################\n",
        "\n",
        "\n",
        "############################################################################\n",
        "# TODO: Utilize o metodo 2 para selecionar as colunas \"Country\" e \"Total\". #\n",
        "#                                                                          #  \n",
        "# Verifique o tipo e os dados do Dataframe encontrado.                     #      \n",
        "############################################################################\n",
        "pass\n",
        "df_aux = df[['Country', 'Total']]\n",
        "\n",
        "print(type(df_aux))\n",
        "print(df_aux.head(2))\n",
        "\n",
        "del df_aux\n",
        "############################################################################\n",
        "#                             END OF YOUR CODE                             #\n",
        "############################################################################"
      ],
      "execution_count": 0,
      "outputs": []
    },
    {
      "metadata": {
        "id": "gWJxo1Vx_SoC",
        "colab_type": "text"
      },
      "cell_type": "markdown",
      "source": [
        "**Selecionando linhas:**\n",
        "\n",
        "Existem duas$^{[1]}$ maneiras de selecionar uma linha:\n",
        "\n",
        "**Método 1:** filtra pelos rótulos do índice / coluna\n",
        "\n",
        "```python\n",
        "    df.loc[label]        \n",
        "```\n",
        "\n",
        "**Método 2:** filtra pelas posições do índice / coluna\n",
        "\n",
        "```python\n",
        "    df.iloc[index]       \n",
        "```\n",
        "\n",
        "---\n",
        "$^{[1]}$ O método `df.ix[label/index]` está obsoleto!"
      ]
    },
    {
      "metadata": {
        "id": "sb5QrPeS_SoK",
        "colab_type": "text"
      },
      "cell_type": "markdown",
      "source": [
        "Antes de prosseguirmos, observe que o índice _default_ do conjunto de dados é um intervalo numérico de 0 a 194. Isso dificulta muito a realização de uma consulta por um país específico. Por exemplo, para procurar dados no Japão, precisamos saber o valor do índice dele.\n",
        "\n",
        "Outro detalhe, é que os métodos `df.loc` e `df.iloc` recebem o mesmo argumento nesse caso uma vez que o rótulo do índice é também seu index.\n",
        "\n",
        "Para resolver esse problema, nós iremos definir a coluna **'Country'** como o índice utilizando o método [**`df.set_index()`**](https://pandas.pydata.org/pandas-docs/version/0.22/generated/pandas.DataFrame.set_index.html)."
      ]
    },
    {
      "metadata": {
        "id": "FPhPw4Xx_SoS",
        "colab_type": "code",
        "colab": {}
      },
      "cell_type": "code",
      "source": [
        "############################################################################\n",
        "# TODO: Altere o indice da tabela usando a coluna \"Country\".               #\n",
        "############################################################################\n",
        "pass\n",
        "df.set_index('Country', inplace=True)\n",
        "############################################################################\n",
        "#                             END OF YOUR CODE                             #\n",
        "############################################################################\n",
        "\n",
        "# Exiba o DataFrame\n",
        "df.head(2)"
      ],
      "execution_count": 0,
      "outputs": []
    },
    {
      "metadata": {
        "id": "iC5B2RJq_So7",
        "colab_type": "code",
        "colab": {}
      },
      "cell_type": "code",
      "source": [
        "############################################################################\n",
        "# TODO: Remova o nome do index.                                            #\n",
        "#                                                                          #\n",
        "# DICA: O comando dataframe.index.name pode ser util.                      #\n",
        "############################################################################\n",
        "pass\n",
        "df.index.name = None\n",
        "############################################################################\n",
        "#                             END OF YOUR CODE                             #\n",
        "############################################################################\n",
        "\n",
        "# Exiba o DataFrame\n",
        "df.head(2)"
      ],
      "execution_count": 0,
      "outputs": []
    },
    {
      "metadata": {
        "id": "2fbpbHe4_SpP",
        "colab_type": "code",
        "colab": {}
      },
      "cell_type": "code",
      "source": [
        "print(\"###################################\")\n",
        "print(\"     pandas.core.series.Series     \")\n",
        "print(\"###################################\")\n",
        "\n",
        "print(\"\\nMETODO 1:\")\n",
        "############################################################################\n",
        "# TODO: Utilize o metodo 1 para selecionar os dados da Alemanha (Germany). #\n",
        "#                                                                          #  \n",
        "# Verifique o tipo e os dados da Serie encontrada.                         #      \n",
        "############################################################################\n",
        "pass\n",
        "df_aux = df.loc['Germany']\n",
        "\n",
        "print(type(df_aux))\n",
        "print(df_aux.head())\n",
        "############################################################################\n",
        "#                             END OF YOUR CODE                             #\n",
        "############################################################################\n",
        "\n",
        "\n",
        "print(\"\\nMETODO 2:\")\n",
        "############################################################################\n",
        "# TODO: Utilize o metodo 2 para selecionar os dados da Alemanha (row 67).  #\n",
        "#                                                                          #  \n",
        "# Verifique o tipo e os dados da Serie encontrada.                         #      \n",
        "############################################################################\n",
        "pass\n",
        "df_aux = df.iloc[67]\n",
        "\n",
        "print(type(df_aux))\n",
        "print(df_aux.head())\n",
        "\n",
        "del df_aux\n",
        "############################################################################\n",
        "#                             END OF YOUR CODE                             #\n",
        "############################################################################"
      ],
      "execution_count": 0,
      "outputs": []
    },
    {
      "metadata": {
        "id": "zV9a1YLF_Spn",
        "colab_type": "code",
        "colab": {}
      },
      "cell_type": "code",
      "source": [
        "print(\"####################################\")\n",
        "print(\"    pandas.core.series.DataFrame    \")\n",
        "print(\"####################################\")\n",
        "\n",
        "print(\"\\nMETODO 1:\")\n",
        "############################################################################\n",
        "# TODO: Utilize o metodo 1 para selecionar os dados da Alemanha (Germany)  #\n",
        "# e do Brasil (Brazil).                                                    #                                                      \n",
        "#                                                                          #\n",
        "# Verifique o tipo e os dados do DataFrame encontrado.                     #      \n",
        "############################################################################\n",
        "pass\n",
        "df_aux = df.loc[['Brazil', 'Germany']]\n",
        "\n",
        "print(type(df_aux))\n",
        "print(df_aux.head())\n",
        "############################################################################\n",
        "#                             END OF YOUR CODE                             #\n",
        "############################################################################\n",
        "\n",
        "\n",
        "print(\"\\nMETODO 2:\")\n",
        "############################################################################\n",
        "# TODO: Utilize o metodo 2 para selecionar os dados da Alemanha (row 67)   #\n",
        "# e do Brasil (row 24).                                                    #                                                      \n",
        "#                                                                          #  \n",
        "# Verifique o tipo e os dados do DataFrame encontrado.                     #      \n",
        "############################################################################\n",
        "pass\n",
        "df_aux = df.iloc[[24, 67]]\n",
        "\n",
        "print(type(df_aux))\n",
        "print(df_aux.head())\n",
        "\n",
        "del df_aux\n",
        "############################################################################\n",
        "#                             END OF YOUR CODE                             #\n",
        "############################################################################"
      ],
      "execution_count": 0,
      "outputs": []
    },
    {
      "metadata": {
        "id": "lh4fXwFz_SqG",
        "colab_type": "code",
        "colab": {}
      },
      "cell_type": "code",
      "source": [
        "print(\"\\nMETODO 1:\")\n",
        "############################################################################\n",
        "# TODO: Utilizando o metodo 1, selecione somente a coluna \"Total\" da       #\n",
        "# Alemanha.                                                                #\n",
        "#                                                                          #\n",
        "# OBS.: Imprima o dados dados obtidos.                                     #\n",
        "############################################################################\n",
        "pass\n",
        "df_aux = df.loc['Germany', 'Total']\n",
        "print(df_aux)\n",
        "############################################################################\n",
        "#                             END OF YOUR CODE                             #\n",
        "############################################################################\n",
        "\n",
        "print(\"\\nMETODO 2:\")\n",
        "############################################################################\n",
        "# TODO: Utilizando o metodo 2, selecione somente a coluna \"Total\" da       #\n",
        "# Alemanha.                                                                #\n",
        "#                                                                          #\n",
        "# OBS.: Imprima o dados dados obtidos.                                     #\n",
        "############################################################################\n",
        "pass\n",
        "df_aux = df.iloc[67, 37]\n",
        "print(df_aux)\n",
        "\n",
        "del df_aux\n",
        "############################################################################\n",
        "#                             END OF YOUR CODE                             #\n",
        "############################################################################"
      ],
      "execution_count": 0,
      "outputs": []
    },
    {
      "metadata": {
        "id": "B71fZxCH_SqR",
        "colab_type": "code",
        "colab": {}
      },
      "cell_type": "code",
      "source": [
        "print(\"\\nMETODO 1:\")\n",
        "############################################################################\n",
        "# TODO: Utilizando o metodo 1, selecione somente a coluna \"Total\" da       #\n",
        "# Alemanha e do Brasil.                                                    #\n",
        "#                                                                          #\n",
        "# OBS.: Imprima o dados dados obtidos.                                     #\n",
        "############################################################################\n",
        "pass\n",
        "df_aux = df.loc[['Brazil', 'Germany'], 'Total']\n",
        "print(df_aux)\n",
        "\n",
        "############################################################################\n",
        "#                             END OF YOUR CODE                             #\n",
        "############################################################################\n",
        "\n",
        "print(\"\\nMETODO 2:\")\n",
        "############################################################################\n",
        "# TODO: Utilizando o metodo 2, selecione somente a coluna \"Total\" da       #\n",
        "# Alemanha e do Brasil.                                                    #\n",
        "#                                                                          #\n",
        "# OBS.: Imprima o dados dados obtidos.                                     #\n",
        "############################################################################\n",
        "pass\n",
        "df_aux = df.iloc[[24, 67], 37]\n",
        "print(df_aux)\n",
        "\n",
        "del df_aux\n",
        "############################################################################\n",
        "#                             END OF YOUR CODE                             #\n",
        "############################################################################"
      ],
      "execution_count": 0,
      "outputs": []
    },
    {
      "metadata": {
        "id": "lvzs-iV8_SqY",
        "colab_type": "text"
      },
      "cell_type": "markdown",
      "source": [
        "Para evitar ambiguidades e manter um padrão, iremos converter todos os nomes do cabeçalho para `str`."
      ]
    },
    {
      "metadata": {
        "id": "ND5fbMd4_Sqa",
        "colab_type": "code",
        "colab": {}
      },
      "cell_type": "code",
      "source": [
        "def count_type(df):\n",
        "  \"\"\"\n",
        "  Imprime o numero de colunas do cabecalho que sao do tipo int ou str.\n",
        "  \"\"\"\n",
        "  \n",
        "  c_int = 0\n",
        "  c_str = 0\n",
        "  \n",
        "  for x in df.columns.values:\n",
        "    if isinstance(x, int):\n",
        "      c_int +=1  \n",
        "    \n",
        "    elif isinstance(x, str):\n",
        "      c_str +=1\n",
        "        \n",
        "    else:\n",
        "      print('A coluna {} e de um tipo desconhecido'.format(x))\n",
        "      \n",
        "  print('Numero de classes do tipo int: ', c_int)\n",
        "  print('Numero de classes do tipo str: ', c_str)\n",
        "  print()"
      ],
      "execution_count": 0,
      "outputs": []
    },
    {
      "metadata": {
        "id": "YC4xfK_Byib9",
        "colab_type": "code",
        "colab": {}
      },
      "cell_type": "code",
      "source": [
        "# Verifica o numero de colunas do cabecalho que sao do tipo int ou str\n",
        "print(\"Antes de transformar: \\n\")\n",
        "count_type(df)"
      ],
      "execution_count": 0,
      "outputs": []
    },
    {
      "metadata": {
        "id": "HqhQFQuq_Sqs",
        "colab_type": "code",
        "colab": {}
      },
      "cell_type": "code",
      "source": [
        "############################################################################\n",
        "# TODO: Converta todos os nomes do cabecalho para o tipo str.              #\n",
        "#                                                                          #\n",
        "# DICA: O metodo map pode ser util.                                        #\n",
        "############################################################################\n",
        "pass\n",
        "df.columns = list(map(str, df.columns))\n",
        "############################################################################\n",
        "#                             END OF YOUR CODE                             #\n",
        "############################################################################\n",
        "\n",
        "# Verifica o numero de colunas do dataframe que sao do tipo int ou str\n",
        "print(\"Depois de transformar: \\n\")\n",
        "count_type(df)"
      ],
      "execution_count": 0,
      "outputs": []
    },
    {
      "metadata": {
        "id": "xT_QvCKV_SrH",
        "colab_type": "text"
      },
      "cell_type": "markdown",
      "source": [
        "**Filtragem baseada em um critério**\n",
        "\n",
        "Para filtrar o dataframe com base em uma condição, simplesmente passamos a condição como um vetor booleano.\n",
        "\n",
        "Por exemplo, vamos filtrar o dataframe para mostrar os dados em países asiáticos (Continent = Asia)."
      ]
    },
    {
      "metadata": {
        "id": "Ikg7KFEs_SrJ",
        "colab_type": "code",
        "colab": {}
      },
      "cell_type": "code",
      "source": [
        "############################################################################\n",
        "# TODO: Crie uma condicao para verificar quais paises pertencem ao         #\n",
        "# continente: Oceania.                                                     #\n",
        "############################################################################\n",
        "condicao = df['Continent'] == 'Oceania'\n",
        "############################################################################\n",
        "#                             END OF YOUR CODE                             #\n",
        "############################################################################\n",
        "\n",
        "print(type(condicao), '\\n')\n",
        "print(condicao.head(10))"
      ],
      "execution_count": 0,
      "outputs": []
    },
    {
      "metadata": {
        "id": "5b5ljInz_Srf",
        "colab_type": "code",
        "colab": {}
      },
      "cell_type": "code",
      "source": [
        "############################################################################\n",
        "# TODO: Selecione os dados do dataframe que cumprem a condicao criada.     #\n",
        "############################################################################\n",
        "pass\n",
        "df[condicao]\n",
        "############################################################################\n",
        "#                             END OF YOUR CODE                             #\n",
        "############################################################################"
      ],
      "execution_count": 0,
      "outputs": []
    },
    {
      "metadata": {
        "id": "JvIM9uSH_Srr",
        "colab_type": "text"
      },
      "cell_type": "markdown",
      "source": [
        "## Visualização de dados usando Matplotlib<a name=\"visualizacao\"></a>\n",
        "\n",
        "A principal biblioteca de plotagem que exploraremos no curso é o Matplotlib. Como mencionado em seu site:\n",
        "\n",
        "> O Matplotlib é uma biblioteca de plotagem 2D em Python que produz números de qualidade de publicação em uma variedade de formatos impressos e ambientes interativos entre plataformas. O Matplotlib pode ser usado em scripts Python, no shell Python e IPython, Jupyter Notebook, em servidores de aplicativos da Web e em quatro kits de ferramentas de interface gráfica com o usuário.\n",
        "\n",
        "Se você pretende criar uma visualização impactante com o python, o Matplotlib é uma ferramenta essencial para você ter à sua disposição."
      ]
    },
    {
      "metadata": {
        "id": "qCRh5Hz2_Srs",
        "colab_type": "text"
      },
      "cell_type": "markdown",
      "source": [
        "Vamos começar importando o **`Matplotlib`** e o **`Matplotlib.pyplot`** da seguinte maneira:\n",
        "\n",
        "---\n",
        "\n",
        "* Opcional: Aplique um estilo no Matplotlib com **`mpl.style.use`**. Para vericar as opções, use:\n",
        "\n",
        "```python\n",
        "print(plt.style.available)\n",
        "```"
      ]
    },
    {
      "metadata": {
        "id": "K1sk-1rZ_Sru",
        "colab_type": "code",
        "colab": {}
      },
      "cell_type": "code",
      "source": [
        "import matplotlib as mpl\n",
        "import matplotlib.pyplot as plt\n",
        "%matplotlib inline \n",
        "\n",
        "# Aplicando o estilo 'seaborn-darkgrid'\n",
        "mpl.style.use(['seaborn-darkgrid'])"
      ],
      "execution_count": 0,
      "outputs": []
    },
    {
      "metadata": {
        "id": "vbeiRBw2_Sr2",
        "colab_type": "text"
      },
      "cell_type": "markdown",
      "source": [
        "### Plotagem em *Pandas*\n",
        "\n",
        "Felizmente, o Pandas têm uma implementação embutida do Matplotlib que podemos usar. Plotar em *Pandas* é tão simples quanto acrescentar um método [**`.plot()`**](https://pandas.pydata.org/pandas-docs/stable/generated/pandas.DataFrame.plot.html) a uma série ou dataframe.\n",
        "\n",
        "Documentação:\n",
        "- [Plotting with Series](http://pandas.pydata.org/pandas-docs/stable/api.html#plotting)\n",
        "- [Plotting with Dataframes](http://pandas.pydata.org/pandas-docs/stable/api.html#api-dataframe-plotting)"
      ]
    },
    {
      "metadata": {
        "id": "P6MBac3F_Sr4",
        "colab_type": "text"
      },
      "cell_type": "markdown",
      "source": [
        "Desde que convertemos os anos para string, vamos declarar uma variável que nos permita recorrer facilmente a toda a gama de anos:"
      ]
    },
    {
      "metadata": {
        "id": "eVDKA0u5_Sr6",
        "colab_type": "code",
        "colab": {}
      },
      "cell_type": "code",
      "source": [
        "# Isso sera usado para chamar os dados de 1980 a 2014 do dataframe\n",
        "years = list(map(str, range(1980, 2014)))"
      ],
      "execution_count": 0,
      "outputs": []
    },
    {
      "metadata": {
        "id": "uSe_vxU8_SsA",
        "colab_type": "text"
      },
      "cell_type": "markdown",
      "source": [
        "### Gráficos de linha<a name=\"line-plots\"></a>\n",
        "\n",
        "**O que é um gráfico de linha e por que usá-lo?**\n",
        "\n",
        "Um gráfico de linha ou gráfico de linha é um tipo de gráfico que exibe informações como uma série de pontos de dados chamados 'marcadores' conectados por segmentos de linha reta. É um tipo básico de gráfico comum em muitos campos. Use plotagem de linha quando você tiver um conjunto de dados contínuo. Eles são mais adequados para visualizações de dados com base em tendências durante um período de tempo.\n",
        "\n",
        "**Cuidado:**\n",
        "\n",
        "O gráfico de linhas é uma ferramenta útil para exibir várias variáveis dependentes contra uma variável independente. No entanto, recomenda-se que não mais do que 5-10 linhas em um único gráfico; mais do que isso e torna-se difícil de interpretar.\n",
        "\n",
        "\n",
        "**Vamos começar com um estudo de caso:**\n",
        "\n",
        "Em 2010, o Haiti sofreu um terremoto catastrófico de magnitude 7,0. O terremoto causou devastação generalizada e perda de vidas e cerca de três milhões de pessoas foram afetadas por este desastre natural. Como parte do esforço humanitário do Canadá, o governo do Canadá intensificou seus esforços para aceitar refugiados do Haiti. Podemos visualizar rapidamente esse esforço usando um gráfico de linha:\n",
        "\n",
        "---\n",
        "\n",
        "**Questão:** Faça um gráfico de linha da imigração do Haiti usando **`.plot()`**. \n",
        "\n",
        "    [Dica]: Extraia a série de dados para o Haiti."
      ]
    },
    {
      "metadata": {
        "id": "Vr0HebQb_SsC",
        "colab_type": "code",
        "colab": {}
      },
      "cell_type": "code",
      "source": [
        "############################################################################\n",
        "# TODO: Plote um grafico de linha com os dados de imigracao do Haiti entre #\n",
        "# 1980 e 2014.                                                             #\n",
        "############################################################################\n",
        "pass\n",
        "df_haiti = df.loc[\"Haiti\", years]\n",
        "df_haiti.plot()\n",
        "############################################################################\n",
        "#                             END OF YOUR CODE                             #\n",
        "############################################################################"
      ],
      "execution_count": 0,
      "outputs": []
    },
    {
      "metadata": {
        "id": "04z_RhCW_SsJ",
        "colab_type": "text"
      },
      "cell_type": "markdown",
      "source": [
        "*Pandas* preencheu automaticamente o eixo x com os valores do índice (anos) e o eixo y com os valores da coluna (população).\n",
        "\n",
        "Vamos rotular os eixos x e y usando **`plt.title()`**, **`plt.ylabel()`** e **`plt.xlabel()`** da seguinte forma:"
      ]
    },
    {
      "metadata": {
        "id": "SHifLB_j_SsL",
        "colab_type": "code",
        "colab": {}
      },
      "cell_type": "code",
      "source": [
        "############################################################################\n",
        "# TODO: Repita o codigo da celula acima.                                   #\n",
        "############################################################################\n",
        "pass\n",
        "df_haiti = df.loc[\"Haiti\", years]\n",
        "df_haiti.plot(figsize=(15,10))\n",
        "############################################################################\n",
        "#                             END OF YOUR CODE                             #\n",
        "############################################################################\n",
        "\n",
        "plt.title('Immigration from Haiti')\n",
        "plt.ylabel('Number of immigrants')\n",
        "plt.xlabel('Years')\n",
        "\n",
        "# Precisa desta linha para mostrar as atualizações feitas na figura\n",
        "plt.show() "
      ],
      "execution_count": 0,
      "outputs": []
    },
    {
      "metadata": {
        "id": "7BLuE_BQAFcn",
        "colab_type": "text"
      },
      "cell_type": "markdown",
      "source": [
        "**Questão:** Agora compare os números de imigração entre a China e a India."
      ]
    },
    {
      "metadata": {
        "id": "6XNt-5dt_SsT",
        "colab_type": "code",
        "colab": {}
      },
      "cell_type": "code",
      "source": [
        "############################################################################\n",
        "# TODO: Plote um grafico de linha com os dados de imigracao da China e da  #\n",
        "# India entre 1980 e 2014.                                                 #\n",
        "############################################################################\n",
        "pass\n",
        "df_ci = df.loc[[\"China\", \"India\"], years]\n",
        "df_ci.plot(figsize=(15,10))\n",
        "############################################################################\n",
        "#                             END OF YOUR CODE                             #\n",
        "############################################################################"
      ],
      "execution_count": 0,
      "outputs": []
    },
    {
      "metadata": {
        "id": "dRzITjz5Axt8",
        "colab_type": "text"
      },
      "cell_type": "markdown",
      "source": [
        "Isso não parece certo ...\n",
        "\n",
        "Lembre-se de que *Pandas* plota os índices no eixo x e as colunas como linhas individuais no eixo y. Como os dados selecionados são um dataframe com **`country`** como o índice e **`years`** como as colunas, devemos primeiro transpor o dataframe usando o método **`.transpose()`** para trocar as linhas e colunas."
      ]
    },
    {
      "metadata": {
        "id": "CAqJDVxu_Ssi",
        "colab_type": "code",
        "colab": {}
      },
      "cell_type": "code",
      "source": [
        "############################################################################\n",
        "# TODO: Repita o processo da celula acima e aplique o metodo .transpose no #\n",
        "# dataframe selecionado.                                                   #\n",
        "############################################################################\n",
        "pass\n",
        "df_ci = df.loc[[\"China\", \"India\"], years].transpose()\n",
        "df_ci.plot(figsize=(15,10))\n",
        "############################################################################\n",
        "#                             END OF YOUR CODE                             #\n",
        "############################################################################\n",
        "\n",
        "plt.title('Immigrants from China and India')\n",
        "plt.ylabel('Number of Immigrants')\n",
        "plt.xlabel('Years')\n",
        "plt.show() "
      ],
      "execution_count": 0,
      "outputs": []
    },
    {
      "metadata": {
        "id": "q9jxhqJtBpmX",
        "colab_type": "text"
      },
      "cell_type": "markdown",
      "source": [
        "**Questão:** Compare a tendência dos cinco principais países que mais contribuíram para a imigração para o Canadá."
      ]
    },
    {
      "metadata": {
        "id": "EYoP94fb4dRU",
        "colab_type": "code",
        "colab": {}
      },
      "cell_type": "code",
      "source": [
        "############################################################################\n",
        "# TODO: Selecione os cinco paises que mais contribuiram para a imigracao   #\n",
        "# no Canada desde 1980.                                                       #\n",
        "#                                                                          #\n",
        "# DICA: Tente ordenar o dataframe antes de selecionar os dados.            #\n",
        "#                                                                          #\n",
        "# OBS.: Salve esses dados em uma variavel, usaremos eles no futuro!        #\n",
        "############################################################################\n",
        "pass\n",
        "df.sort_values(by='Total', ascending=False, axis=0, inplace=True)\n",
        "df_top5 = df.head(5)\n",
        "df_top5\n",
        "############################################################################\n",
        "#                             END OF YOUR CODE                             #\n",
        "############################################################################"
      ],
      "execution_count": 0,
      "outputs": []
    },
    {
      "metadata": {
        "id": "nKvQwNr8_StI",
        "colab_type": "code",
        "colab": {}
      },
      "cell_type": "code",
      "source": [
        "############################################################################\n",
        "# TODO: Plote um grafico de linha com os dados dos cinco paises que mais   #\n",
        "# contribuiram para a imigracao Canada desde 1980.                         #\n",
        "#                                                                          #\n",
        "# OBS.: Para melhor visualização, modifique o tamanho da figura plotada.   #\n",
        "# Para tal, utilize o argumento figsize=(x,y) no metodo .plot              #\n",
        "############################################################################\n",
        "pass\n",
        "df_top5[years].transpose().plot(kind='line', figsize=(14, 8))\n",
        "############################################################################\n",
        "#                             END OF YOUR CODE                             #\n",
        "############################################################################\n",
        "\n",
        "plt.title('Immigration Trend of Top 5 Countries')\n",
        "plt.ylabel('Number of Immigrants')\n",
        "plt.xlabel('Years')\n",
        "plt.show()"
      ],
      "execution_count": 0,
      "outputs": []
    },
    {
      "metadata": {
        "id": "8sIwygQ2Dxj_",
        "colab_type": "text"
      },
      "cell_type": "markdown",
      "source": [
        "### Gráficos de área <a name=\"area-plots\"></a>"
      ]
    },
    {
      "metadata": {
        "id": "OmGZ-qzJFLLV",
        "colab_type": "text"
      },
      "cell_type": "markdown",
      "source": [
        "Gráficos de área são empilhados por padrão. E para produzir um gráfico de área empilhada, cada coluna deve ser todos os valores positivos ou negativos (quaisquer valores NaN serão padronizados como 0). Para produzir um gráfico não empilhado, passe **`stacked=False`**. "
      ]
    },
    {
      "metadata": {
        "id": "1VbBCJ-kEpIk",
        "colab_type": "code",
        "colab": {}
      },
      "cell_type": "code",
      "source": [
        "############################################################################\n",
        "# TODO: Plote um grafico de área com os dados dos cinco paises que mais    #\n",
        "# contribuiram para a imigracao Canada desde 1980.                         #\n",
        "#                                                                          #\n",
        "# OBS.: Defina o parametro stacked=False                                   #\n",
        "############################################################################\n",
        "pass\n",
        "df_top5[years].transpose().plot(kind='area', stacked=False, figsize=(20, 9))\n",
        "############################################################################\n",
        "#                             END OF YOUR CODE                             #\n",
        "############################################################################\n",
        "\n",
        "plt.title('Immigration Trend of Top 5 Countries')\n",
        "plt.ylabel('Number of Immigrants')\n",
        "plt.xlabel('Years')\n",
        "plt.show()"
      ],
      "execution_count": 0,
      "outputs": []
    },
    {
      "metadata": {
        "id": "xnz4k-npFfB9",
        "colab_type": "text"
      },
      "cell_type": "markdown",
      "source": [
        "O gráfico não empilhado tem uma transparência padrão (valor alpha) em 0,5. Podemos modificar esse valor passando o parâmetro **`alpha`**."
      ]
    },
    {
      "metadata": {
        "id": "i5ubvHkTFlju",
        "colab_type": "code",
        "colab": {}
      },
      "cell_type": "code",
      "source": [
        "############################################################################\n",
        "# TODO: Repita o processo da celula acima, mas dessa vez altere o valor do #\n",
        "# parametro alpha e verifique o que acontece.                              #\n",
        "############################################################################\n",
        "pass\n",
        "df_top5[years].transpose().plot(kind='area', stacked=False, \n",
        "                                alpha=0.25, figsize=(20, 9))\n",
        "############################################################################\n",
        "#                             END OF YOUR CODE                             #\n",
        "############################################################################\n",
        "\n",
        "plt.title('Immigration Trend of Top 5 Countries')\n",
        "plt.ylabel('Number of Immigrants')\n",
        "plt.xlabel('Years')\n",
        "plt.show()"
      ],
      "execution_count": 0,
      "outputs": []
    },
    {
      "metadata": {
        "id": "u3Wbblvy8L-y",
        "colab_type": "text"
      },
      "cell_type": "markdown",
      "source": [
        "Agora, plote um gráfico empilhado."
      ]
    },
    {
      "metadata": {
        "id": "d4_LVzPxF6BZ",
        "colab_type": "code",
        "colab": {}
      },
      "cell_type": "code",
      "source": [
        "############################################################################\n",
        "# TODO: Plote um grafico de área com os dados dos cinco paises que mais    #\n",
        "# contribuiram para a imigracao Canada desde 1980.                         #\n",
        "#                                                                          #\n",
        "# OBS.: Defina o parametro stacked=True                                    #\n",
        "############################################################################\n",
        "pass\n",
        "df_top5[years].transpose().plot(kind='area', stacked=True, \n",
        "                                alpha=0.5, figsize=(20, 9))\n",
        "############################################################################\n",
        "#                             END OF YOUR CODE                             #\n",
        "############################################################################\n",
        "\n",
        "plt.title('Immigration Trend of Top 5 Countries')\n",
        "plt.ylabel('Number of Immigrants')\n",
        "plt.xlabel('Years')\n",
        "plt.show()"
      ],
      "execution_count": 0,
      "outputs": []
    },
    {
      "metadata": {
        "id": "C0QjPP3WDxhq",
        "colab_type": "text"
      },
      "cell_type": "markdown",
      "source": [
        "### Histogramas <a name=\"hist-plots\"></a>\n",
        "\n",
        "Um histograma é uma maneira de representar a distribuição de frequência do conjunto de dados numéricos. A maneira como funciona é dividir o eixo x em compartimentos, atribuir cada ponto de dados em nosso conjunto de dados a um bloco e, em seguida, contar o número de pontos de dados que foram atribuídos a cada bloco. Portanto, o eixo y é a frequência ou o número de pontos de dados em cada caixa. Observe que podemos alterar o tamanho da caixa e, geralmente, é necessário ajustá-lo para que a distribuição seja exibida corretamente.\n"
      ]
    },
    {
      "metadata": {
        "id": "737wg05dIFbq",
        "colab_type": "text"
      },
      "cell_type": "markdown",
      "source": [
        "**Qustão:** Qual é a distribuição de frequência do número (população) de novos imigrantes dos vários países para o Canadá em 2013?\n",
        "\n",
        "Antes de prosseguirmos com a criação do gráfico do histograma, vamos primeiro examinar os dados divididos em intervalos. Para fazer isso, nos usaremos o método de histrograma do Numpy para obter os intervalos de bin e as contagens de frequência da seguinte maneira:"
      ]
    },
    {
      "metadata": {
        "id": "7Wom907PEqmj",
        "colab_type": "code",
        "colab": {}
      },
      "cell_type": "code",
      "source": [
        "# Determine o histograma do ano de 2013\n",
        "count, bin_edges = np.histogram(df['2013'])\n",
        "print(count)\n",
        "print(bin_edges) "
      ],
      "execution_count": 0,
      "outputs": []
    },
    {
      "metadata": {
        "id": "yXsrIVnwIfu6",
        "colab_type": "text"
      },
      "cell_type": "markdown",
      "source": [
        "Por padrão, o método **`histrogram`** divide o dataset em 10 blocos. A figura abaixo resume a distribuição de frequência da imigração em 2013 para cada bloco. Podemos ver que em 2013:\n",
        "* 178 países contribuíram com 0 a 3412,9 imigrantes\n",
        "* 11 países contribuíram entre 3412,9 e 6825,8 imigrantes\n",
        "* 1 país contribuiu entre 6285,8 e 10238,7 imigrantes e assim por diante.\n",
        "\n",
        "<img src = \"https://ibm.box.com/shared/static/g54s9q97mrjok0h4272o7g09cyigei0v.jpg\" align=\"center\" width=800>\n"
      ]
    },
    {
      "metadata": {
        "id": "L8k8Z7YxJExq",
        "colab_type": "code",
        "colab": {}
      },
      "cell_type": "code",
      "source": [
        "############################################################################\n",
        "# TODO: Plote o histograma referente a imigracao no ano de 2013.           #\n",
        "############################################################################\n",
        "pass\n",
        "df['2013'].plot(kind='hist', figsize=(8, 5))\n",
        "############################################################################\n",
        "#                             END OF YOUR CODE                             #\n",
        "############################################################################\n",
        "\n",
        "plt.title('Histogram of Immigration from 195 Countries in 2013') \n",
        "plt.ylabel('Number of Countries') \n",
        "plt.xlabel('Number of Immigrants')\n",
        "plt.show()"
      ],
      "execution_count": 0,
      "outputs": []
    },
    {
      "metadata": {
        "id": "C5vuu06SJbH_",
        "colab_type": "text"
      },
      "cell_type": "markdown",
      "source": [
        "Na plotagem acima, o eixo x representa a faixa populacional de imigrantes em intervalos de 3412,9. O eixo y representa o número de países que contribuíram para a população mencionada.\n",
        "\n",
        "Observe que os rótulos do eixo x não correspondem ao tamanho dos intervalos. Isso pode ser corrigido passando-se uma palavra-chave **`xticks`** que contém a lista dos tamanhos desses intervalos."
      ]
    },
    {
      "metadata": {
        "id": "Tj5sgk1GJEm-",
        "colab_type": "code",
        "colab": {}
      },
      "cell_type": "code",
      "source": [
        "############################################################################\n",
        "# TODO: Plote o histograma referente a imigracao no ano de 2013, mas desta #\n",
        "# vez altere o parametro xticks para corrigir o tamanho dos intervalos.    #\n",
        "############################################################################\n",
        "pass\n",
        "df['2013'].plot(kind='hist', figsize=(8, 5), xticks=bin_edges)\n",
        "############################################################################\n",
        "#                             END OF YOUR CODE                             #\n",
        "############################################################################\n",
        "\n",
        "plt.title('Histogram of Immigration from 195 Countries in 2013') \n",
        "plt.ylabel('Number of Countries') \n",
        "plt.xlabel('Number of Immigrants')\n",
        "plt.show()"
      ],
      "execution_count": 0,
      "outputs": []
    },
    {
      "metadata": {
        "id": "HH8s9BAXKUQB",
        "colab_type": "text"
      },
      "cell_type": "markdown",
      "source": [
        "**Questão:** Qual é a distribuição de imigração para a Dinamarca, Noruega e Suécia para os anos 1980 - 2013?"
      ]
    },
    {
      "metadata": {
        "id": "wiVgNK1kKR2q",
        "colab_type": "code",
        "colab": {}
      },
      "cell_type": "code",
      "source": [
        "############################################################################\n",
        "# TODO: Plote o histograma referente a imigracao da Dinamarca (Denmark),   #\n",
        "# Noruega (Norway) e Suécia (Sweden) entre 1980 e 2013.                    #\n",
        "############################################################################\n",
        "pass\n",
        "df.loc[['Denmark', 'Norway', 'Sweden'], years].plot.hist()\n",
        "############################################################################\n",
        "#                             END OF YOUR CODE                             #\n",
        "############################################################################\n",
        "\n",
        "plt.title('Histogram of Immigration from Denmark, Norway, and Sweden from 1980 - 2013')\n",
        "plt.ylabel('Number of Years')\n",
        "plt.xlabel('Number of Immigrants')\n",
        "plt.show()"
      ],
      "execution_count": 0,
      "outputs": []
    },
    {
      "metadata": {
        "id": "SQTW4APAKRX6",
        "colab_type": "text"
      },
      "cell_type": "markdown",
      "source": [
        "Ao invés de traçar a distribuição da frequência populacional da população para os 3 países, o *pandas* traçou a distribuição da frequência populacional para os anos.\n",
        "\n",
        "Isso pode ser facilmente corrigido, primeiro transpondo o conjunto de dados e, em seguida, plotando."
      ]
    },
    {
      "metadata": {
        "id": "FwSh4zKVKSc4",
        "colab_type": "code",
        "colab": {}
      },
      "cell_type": "code",
      "source": [
        "############################################################################\n",
        "# TODO: Corriga o problema da celula acima e plote novamente o histograma. #\n",
        "############################################################################\n",
        "pass\n",
        "df.loc[['Denmark', 'Norway', 'Sweden'], years].transpose().plot.hist()\n",
        "############################################################################\n",
        "#                             END OF YOUR CODE                             #\n",
        "############################################################################\n",
        "\n",
        "plt.title('Histogram of Immigration from Denmark, Norway, and Sweden from 1980 - 2013')\n",
        "plt.ylabel('Number of Years')\n",
        "plt.xlabel('Number of Immigrants')\n",
        "plt.show()"
      ],
      "execution_count": 0,
      "outputs": []
    },
    {
      "metadata": {
        "id": "D-hlBXuJLNWo",
        "colab_type": "text"
      },
      "cell_type": "markdown",
      "source": [
        "Vamos fazer algumas modificações para melhorar o impacto e a estética do plot anterior:\n",
        "* Aumentar o tamanho do bin para 15 passando o parâmetro **`bins`**\n",
        "* defina a transparência para 60% passando o parâmetro **`alpha`**\n",
        "* rotule o eixo x passando no parâmetro **`x-label`**\n",
        "* mudar as cores dos gráficos passando no parâmetro **`color`**"
      ]
    },
    {
      "metadata": {
        "id": "MUcBIGp0LN-S",
        "colab_type": "code",
        "colab": {}
      },
      "cell_type": "code",
      "source": [
        "# Vamos pegar os valores de x-tick\n",
        "df_aux = df.loc[['Denmark', 'Norway', 'Sweden'], years].transpose()\n",
        "count, bin_edges = np.histogram(df_aux, 15)\n",
        "\n",
        "# Histograma não empilhado\n",
        "df_aux.plot(kind ='hist', \n",
        "          figsize=(10, 6),\n",
        "          bins=15,\n",
        "          alpha=0.6,\n",
        "          xticks=bin_edges,\n",
        "          color=['coral', 'darkslateblue', 'mediumseagreen'])\n",
        "\n",
        "plt.title('Histogram of Immigration from Denmark, Norway, and Sweden from 1980 - 2013')\n",
        "plt.ylabel('Number of Years')\n",
        "plt.xlabel('Number of Immigrants')\n",
        "plt.show()\n",
        "\n",
        "del df_aux"
      ],
      "execution_count": 0,
      "outputs": []
    },
    {
      "metadata": {
        "id": "VsMLOWAPLvnz",
        "colab_type": "text"
      },
      "cell_type": "markdown",
      "source": [
        "Se não quisermos que os gráficos se sobreponham uns aos outros, podemos empilhá-los usando o parâmetro **stacked=True``**."
      ]
    },
    {
      "metadata": {
        "id": "BashTEdLL5N5",
        "colab_type": "code",
        "colab": {}
      },
      "cell_type": "code",
      "source": [
        "############################################################################\n",
        "# TODO: Baseando-se na celula acima, crie um histograma empilhado.         #\n",
        "############################################################################\n",
        "pass\n",
        "df_aux = df.loc[['Denmark', 'Norway', 'Sweden'], years].transpose()\n",
        "\n",
        "df_aux.plot(kind ='hist', \n",
        "          figsize=(10, 6),\n",
        "          bins=15,\n",
        "          alpha=1.0,\n",
        "          xticks=bin_edges,\n",
        "          stacked=True,\n",
        "          color=['coral', 'darkslateblue', 'mediumseagreen'])\n",
        "\n",
        "del df_aux\n",
        "############################################################################\n",
        "#                             END OF YOUR CODE                             #\n",
        "############################################################################\n",
        "\n",
        "plt.title('Histogram of Immigration from Denmark, Norway, and Sweden from 1980 - 2013')\n",
        "plt.ylabel('Number of Years')\n",
        "plt.xlabel('Number of Immigrants')\n",
        "plt.show()"
      ],
      "execution_count": 0,
      "outputs": []
    },
    {
      "metadata": {
        "id": "PvUYGs4fDxfA",
        "colab_type": "text"
      },
      "cell_type": "markdown",
      "source": [
        "### Gráficos de barras <a name=\"bar-plots\"></a>\n",
        "\n",
        "Um gráfico de barras é uma maneira de representar dados em que o * comprimento * das barras representa a magnitude / tamanho do recurso / variável. Gráficos de barras geralmente representam variáveis numéricas e categóricas agrupadas em intervalos.\n",
        "\n",
        "Para criar um gráfico de barras, podemos passar um dos dois argumentos através do parâmetro **`kind`** em **`plot()`**:\n",
        "\n",
        "* **`kind = bar`** $\\to$ cria um gráfico de barra vertical \n",
        "* **`kind = barh`** $\\to$ cria um gráfico de barras  horizontal "
      ]
    },
    {
      "metadata": {
        "id": "HjyEHHyUfxMc",
        "colab_type": "text"
      },
      "cell_type": "markdown",
      "source": [
        "#### Gráficos de barras verticais\n",
        "\n",
        "Nos gráficos de barras verticais, o eixo x é usado para rotular e o comprimento das barras no eixo y corresponde à magnitude da variável sendo medida. Gráficos de barras verticais são particularmente úteis na análise de dados de séries temporais. Uma desvantagem é que eles não têm espaço para a rotulagem de texto no pé de cada barra.\n",
        "\n",
        "** Vamos começar analisando o efeito da crise financeira da Islândia: **\n",
        "\n",
        "A crise financeira islandesa de 2008 a 2011 foi um importante evento econômico e político na Islândia. Em relação ao tamanho de sua economia, o colapso bancário sistêmico da Islândia foi o maior experimentado por qualquer país na história econômica. A crise levou a uma grave depressão econômica em 2008 - 2011 e uma agitação política significativa.\n",
        "\n",
        "** Questão: ** Vamos comparar o número de imigrantes islandeses (país = \"Iceland\") ao Canadá do ano de 1980 a 2013.\n",
        "  \n",
        "    [Dica]: Extraia a série de dados para a Islândia."
      ]
    },
    {
      "metadata": {
        "id": "1vP73DqNEsz4",
        "colab_type": "code",
        "colab": {}
      },
      "cell_type": "code",
      "source": [
        "############################################################################\n",
        "# TODO: Plote um grafico de barras com os dados de imigracao da Islandia   #\n",
        "# (Iceland) entre 1980 e 2014.                                             #\n",
        "#                                                                          #\n",
        "# OBS.: Altere o parametro color e defina uma cor para as barras.          #\n",
        "############################################################################\n",
        "pass\n",
        "df_iceland = df.loc[\"Iceland\", years]\n",
        "df_iceland.plot(kind='bar', figsize=(10, 6), color='steelblue')\n",
        "############################################################################\n",
        "#                             END OF YOUR CODE                             #\n",
        "############################################################################\n",
        "\n",
        "plt.xlabel('Year')\n",
        "plt.ylabel('Number of immigrants') \n",
        "plt.title('Icelandic immigrants to Canada from 1980 to 2013') \n",
        "plt.show()"
      ],
      "execution_count": 0,
      "outputs": []
    },
    {
      "metadata": {
        "id": "rQUwCAa4guEa",
        "colab_type": "text"
      },
      "cell_type": "markdown",
      "source": [
        "**Extra:** Adicione o código abaixo antes de **`plt.show()`**\n",
        "\n",
        "```python\n",
        "# Anotar seta\n",
        "plt.annotate('',                      # s: str. Deixa em branco para nenhum texto\n",
        "             xy=(32, 70),             # coloque a ponta da seta no ponto (ano de 2012, pop 70)\n",
        "             xytext=(28, 20),         # coloque a base da seta no ponto (ano de 2008, pop 20)\n",
        "             xycoords='data',         # usará o sistema de coordenadas do objeto que está sendo anotado\n",
        "             arrowprops=dict(arrowstyle='->', connectionstyle='arc3', color='blue', lw=2))\n",
        "\n",
        "# Anotar texto\n",
        "plt.annotate('2008 - 2011 Financial Crisis', # texto a ser exibido\n",
        "             xy=(28,30),                     # comece o texto no ponto (ano de 2008, pop 30)\n",
        "             rotation=72.5,                  # Baseado em tentativa e erro para coincidir com a seta\n",
        "             va='bottom',                    # Deseja que o texto seja alinhado verticalmente na parte inferior\n",
        "             ha='left')                      # Deseja que o texto seja horizontalmente 'deixado' algned.\n",
        "```"
      ]
    },
    {
      "metadata": {
        "id": "ONcbaOZohBGR",
        "colab_type": "code",
        "colab": {}
      },
      "cell_type": "code",
      "source": [
        "############################################################################\n",
        "# TODO: Repita o codigo da celula acima                                    #\n",
        "############################################################################\n",
        "pass\n",
        "df_iceland = df.loc[\"Iceland\", years]\n",
        "df_iceland.plot(kind='bar', figsize=(10, 6), color='steelblue')\n",
        "############################################################################\n",
        "#                             END OF YOUR CODE                             #\n",
        "############################################################################\n",
        "\n",
        "# Anotar seta\n",
        "plt.annotate('',                      # s: str. Deixa em branco para nenhum texto\n",
        "             xy=(32, 70),             # coloque a ponta da seta no ponto (ano de 2012, pop 70)\n",
        "             xytext=(28, 20),         # coloque a base da seta no ponto (ano de 2008, pop 20)\n",
        "             xycoords='data',         # usará o sistema de coordenadas do objeto que está sendo anotado\n",
        "             arrowprops=dict(arrowstyle='->', connectionstyle='arc3', color='blue', lw=2))\n",
        "\n",
        "# Anotar texto\n",
        "plt.annotate('2008 - 2011 Financial Crisis', # texto a ser exibido\n",
        "             xy=(28,30),                     # comece o texto no ponto (ano de 2008, pop 30)\n",
        "             rotation=72.5,                  # Baseado em tentativa e erro para coincidir com a seta\n",
        "             va='bottom',                    # Deseja que o texto seja alinhado verticalmente na parte inferior\n",
        "             ha='left')                      # Deseja que o texto seja horizontalmente 'deixado' algned.\n",
        "\n",
        "plt.xlabel('Year')\n",
        "plt.ylabel('Number of immigrants') \n",
        "plt.title('Icelandic immigrants to Canada from 1980 to 2013') \n",
        "plt.show()"
      ],
      "execution_count": 0,
      "outputs": []
    },
    {
      "metadata": {
        "id": "wFaPEsSvhK3B",
        "colab_type": "text"
      },
      "cell_type": "markdown",
      "source": [
        "#### Gráficos de barras horizontais\n",
        "\n",
        "Às vezes é mais prático representar os dados horizontalmente, especialmente se você precisar de mais espaço para rotular as barras. Nos gráficos de barras horizontais, o eixo y é usado para rotular e o comprimento das barras no eixo x corresponde à magnitude da variável sendo medida. Como você verá, há mais espaço no eixo y para rotular variáveis categóricas.\n",
        "\n",
        "**Questão:** Usando o conjunto de dados **df**, crie um gráfico de barras horizontais mostrando o número total de imigrantes para o Canadá dos 15 países que mais imigraram, para o período de 1980 a 2013. Rotule cada país com a contagem total de imigrantes."
      ]
    },
    {
      "metadata": {
        "id": "OSPWjOe_Esiw",
        "colab_type": "code",
        "colab": {}
      },
      "cell_type": "code",
      "source": [
        "############################################################################\n",
        "# TODO: Plote um grafico de barras horizontais com o \"Total\" dos 15 paises #\n",
        "# que mais contribuiram para a imigracao no Canada desde 1980.             # \n",
        "#                                                                          #\n",
        "# OBS.: Salve esses dados na variavel df_top15                             #\n",
        "############################################################################\n",
        "pass\n",
        "df_top15 = df[\"Total\"].head(15)\n",
        "df_top15.plot(kind='barh', figsize=(12, 12), color='steelblue')\n",
        "############################################################################\n",
        "#                             END OF YOUR CODE                             #\n",
        "############################################################################\n",
        "\n",
        "\n",
        "# anotar rótulos de valor para cada país\n",
        "for index, value in enumerate(df_top15): \n",
        "  label = format(int(value), ',')\n",
        "  \n",
        "  # coloque o texto no final da barra (subtraindo 47000 de x e 0,1 de y para ajustá-lo dentro da barra)\n",
        "  plt.annotate(label, xy=(value - 47000, index - 0.10), color='white')\n",
        "    \n",
        "plt.xlabel('Number of Immigrants')\n",
        "plt.title('Top 15 Conuntries Contributing to the Immigration to Canada between 1980 - 2013')\n",
        "plt.show()"
      ],
      "execution_count": 0,
      "outputs": []
    },
    {
      "metadata": {
        "id": "PU2pwlx6Dxcr",
        "colab_type": "text"
      },
      "cell_type": "markdown",
      "source": [
        "### Gráficos de Pizza <a name=\"pie-plots\"></a>\n",
        "\n",
        "Um `gráfico de pizza` é um gráfico circular que exibe proporções numéricas dividindo um círculo (ou pizza) em fatias proporcionais. Você provavelmente já está familiarizado com gráficos de pizza, pois é amplamente utilizado em negócios e mídia. Podemos criar gráficos de pizza no Matplotlib passando a palavra-chave  **`kind = pie`**.\n",
        "\n"
      ]
    },
    {
      "metadata": {
        "id": "-_HdCgCpijct",
        "colab_type": "text"
      },
      "cell_type": "markdown",
      "source": [
        "**Questão:** Usando um gráfico de pizza, explore a proporção (porcentagem) de novos imigrantes agrupados por continentes no ano de 2013.\n",
        "\n",
        "---\n",
        "\n",
        "**Etapa 1:** Coletar dados.\n",
        "\n",
        "Vamos usar o método *pandas * [**`dataframe.groupby`**](https://pandas.pydata.org/pandas-docs/stable/generated/pandas.DataFrame.groupby.html) para resumir os dados de imigração por Continente. O processo geral do **`groupby`** envolve os seguintes passos:\n",
        "\n",
        "1. ** Dividir: ** Dividindo os dados em grupos com base em alguns critérios.\n",
        "2. ** Aplicar: ** Aplicando uma função para cada grupo de forma independente:\n",
        "        .soma()\n",
        "        .contagem()\n",
        "        .significar()\n",
        "        .std ()\n",
        "        .agregar()\n",
        "        .Aplique()\n",
        "        .etc ..\n",
        "3. ** Combinar: ** Combinando os resultados em uma estrutura de dados.\n",
        "\n",
        "<img src = \"https://ibm.box.com/shared/static/tkfhxqkehfzpclco8f0eazhie33uxj9j.png\" align=\"center\" height=300>"
      ]
    },
    {
      "metadata": {
        "id": "DKOk8kyLFbJf",
        "colab_type": "code",
        "colab": {}
      },
      "cell_type": "code",
      "source": [
        "############################################################################\n",
        "# TODO: Agrupe os países por continentes.                                  #\n",
        "############################################################################\n",
        "df_continents = df.groupby('Continent', axis=0)\n",
        "############################################################################\n",
        "#                             END OF YOUR CODE                             #\n",
        "############################################################################\n",
        "\n",
        "# Nota: a saída do método groupby é um objeto groupby.\n",
        "# não podemos usá-lo até aplicarmos uma função (por exemplo, .sum ())\n",
        "print(type(df_continents))"
      ],
      "execution_count": 0,
      "outputs": []
    },
    {
      "metadata": {
        "id": "x3Mbl3LOiH53",
        "colab_type": "code",
        "colab": {}
      },
      "cell_type": "code",
      "source": [
        "############################################################################\n",
        "# TODO: Agrupe os países por continentes novamente. Dessa vez aplique a    #\n",
        "# funcao .sum()                                                            #\n",
        "############################################################################\n",
        "df_continents = df.groupby('Continent', axis=0).sum()\n",
        "############################################################################\n",
        "#                             END OF YOUR CODE                             #\n",
        "############################################################################\n",
        "\n",
        "df_continents.head()"
      ],
      "execution_count": 0,
      "outputs": []
    },
    {
      "metadata": {
        "id": "GmFzmQV1jhyK",
        "colab_type": "text"
      },
      "cell_type": "markdown",
      "source": [
        "**Etapa 2:** plote os dados. Vamos passar a palavra-chave **`kind = \"pie\"`**, juntamente com os seguintes parâmetros adicionais:\n",
        "\n",
        "- **`autopct`** - é uma string ou função usada para rotular o valor numérico. O rótulo será colocado dentro da máscara (por exemplo, controlar o número de casas decimais do rótulo). Se for uma string de formato, o rótulo será `fmt% pct`.\n",
        "\n",
        "- **`startangle`** - gira o início do gráfico de pizza em graus de ângulo no sentido anti-horário a partir do eixo x.\n",
        "\n",
        "- **`shadow`** - Desenha uma sombra sob a pizza (para dar uma sensação 3D)."
      ]
    },
    {
      "metadata": {
        "id": "2hWudPA9jI4z",
        "colab_type": "code",
        "colab": {}
      },
      "cell_type": "code",
      "source": [
        "############################################################################\n",
        "# TODO: Plote um grafico de pizza agrupando o total de imigracoes desde    #\n",
        "# 1980 por continente.                                                     #\n",
        "#                                                                          #\n",
        "# OBS.: Sinta-se livre para alterar os parametros adicionais citados acima.#\n",
        "############################################################################\n",
        "pass\n",
        "df_continents['Total'].plot(kind='pie', figsize=(15, 6),\n",
        "                            autopct='%1.2f%%', startangle=90, \n",
        "                            shadow=True)\n",
        "############################################################################\n",
        "#                             END OF YOUR CODE                             #\n",
        "############################################################################\n",
        "\n",
        "plt.title('Immigration to Canada by Continent [1980 - 2013]')\n",
        "plt.axis('equal') # Define o gráfico de pizza para se parecer com um círculo.\n",
        "plt.show()"
      ],
      "execution_count": 0,
      "outputs": []
    },
    {
      "metadata": {
        "id": "OLdTuA3Kkyya",
        "colab_type": "text"
      },
      "cell_type": "markdown",
      "source": [
        "O visual acima não é muito claro, os números e o texto se sobrepõem em alguns casos. Vamos fazer algumas modificações para melhorar o visual:\n",
        "\n",
        "* Remova os rótulos de texto no gráfico de pizza passando em \"legend\" e adicione-o como uma legenda separada usando **`plt.legend()`**.\n",
        "* Empurre as porcentagens para ficar fora do gráfico de pizza passando o parâmetro **`pctdistance`**.\n",
        "* Passar em um conjunto personalizado de cores para os continentes, passando no parâmetro **`colors`**.\n",
        "* Explode o gráfico de pizza para enfatizar os três continentes mais baixos (África, América do Norte e América Latina e Caribe) passando o parâmetro **`explode`**."
      ]
    },
    {
      "metadata": {
        "id": "mYawMQ95kzKe",
        "colab_type": "code",
        "colab": {}
      },
      "cell_type": "code",
      "source": [
        "colors_list = ['gold', 'yellowgreen', 'lightcoral', 'lightskyblue', 'lightgreen', 'pink']\n",
        "explode_list = [0.1, 0, 0, 0, 0.1, 0.1]\n",
        "\n",
        "df_continents['Total'].plot(kind='pie',\n",
        "                            figsize=(15, 6),\n",
        "                            autopct='%1.1f%%', \n",
        "                            startangle=90,    \n",
        "                            shadow=True,       \n",
        "                            labels=None,\n",
        "                            pctdistance=1.12,\n",
        "                            colors=colors_list,\n",
        "                            explode=explode_list)\n",
        "\n",
        "# Escale o título em 12% para corresponder à pctdistance\n",
        "plt.title('Immigration to Canada by Continent [1980 - 2013]', y=1.12) \n",
        "plt.axis('equal') \n",
        "plt.legend(labels=df_continents.index, loc='upper left') \n",
        "plt.show()"
      ],
      "execution_count": 0,
      "outputs": []
    },
    {
      "metadata": {
        "id": "KOIAAE8CDxY1",
        "colab_type": "text"
      },
      "cell_type": "markdown",
      "source": [
        "### Diagrama de caixa <a name=\"box-plots\"></a>\n",
        "\n",
        "Um diagrama de caixa é uma forma de representar estatisticamente a distribuição dos dados através de cinco dimensões principais:\n",
        "\n",
        "- ** Minimun: ** O menor número no conjunto de dados.\n",
        "- ** Primeiro quartil: ** Número do meio entre o \"mínimo\" e o \"mediano\".\n",
        "- ** Segundo quartil (Mediana): ** Número do meio do conjunto de dados (classificado).\n",
        "- ** Terceiro quartil: ** Número do meio entre \"mediano\" e \"máximo\".\n",
        "- ** Máximo: ** Maior número no conjunto de dados."
      ]
    },
    {
      "metadata": {
        "id": "xdj0UaW_lvcb",
        "colab_type": "text"
      },
      "cell_type": "markdown",
      "source": [
        "<img src = \"https://ibm.box.com/shared/static/9nkxsfihu8mgt1go2kfasf61sywlu123.png\" width=440, align = \"center\">\n",
        "\n"
      ]
    },
    {
      "metadata": {
        "id": "bWeG4zSbmAHq",
        "colab_type": "text"
      },
      "cell_type": "markdown",
      "source": [
        "Para fazer uma plotagem de caixa, podemos usar kind = box no método de plotagem chamado em uma série ou dataframe.\n",
        "\n",
        "**Questão:** Escreva a caixa para os imigrantes japoneses entre 1980 - 2013.\n",
        "\n",
        "---\n",
        "\n",
        "**Etapa 1:** \n",
        "\n",
        "Obtenha o conjunto de dados. Mesmo que estejamos puxando informações para apenas um país, vamos obtê-lo como um dataframe. Isso nos ajudará a chamar o método **`dataframe.describe()`** para visualizar os percentis."
      ]
    },
    {
      "metadata": {
        "id": "S2e5F_45EsOv",
        "colab_type": "code",
        "colab": {}
      },
      "cell_type": "code",
      "source": [
        "############################################################################\n",
        "# TODO: Plote um diagrama de caixa sobre os dados do Japao (Japan). Antes  #\n",
        "# disso, salve os dados do Japao em uma variavel chamada df_japan          #\n",
        "#                                                                          #\n",
        "# OBS.: Selecione os dados do Japao como DataFrame e nao como uma Serie!   #\n",
        "############################################################################\n",
        "pass\n",
        "df_japan = df.loc[['Japan'], years].transpose()\n",
        "df_japan.plot(kind='box', figsize=(8, 6))\n",
        "############################################################################\n",
        "#                             END OF YOUR CODE                             #\n",
        "############################################################################\n",
        "\n",
        "plt.title('Box plot of Japanese Immigrants from 1980 - 2013')\n",
        "plt.ylabel('Number of Immigrants')\n",
        "plt.show()"
      ],
      "execution_count": 0,
      "outputs": []
    },
    {
      "metadata": {
        "id": "LGfYiCefmhIY",
        "colab_type": "text"
      },
      "cell_type": "markdown",
      "source": [
        "Podemos fazer imediatamente algumas observações importantes do gráfico acima:\n",
        "1. O número mínimo de imigrantes é de cerca de 200 (min), o número máximo é de cerca de 1300 (max) e o número médio de imigrantes é de cerca de 900 (mediana).\n",
        "2. 25% dos anos para o período de 1980 a 2013 tiveram uma contagem anual de imigrantes de ~ 500 ou menos (primeiro quartil).\n",
        "3. 75% dos anos para o período de 1980 a 2013 tiveram uma contagem anual de imigrantes de ~ 1100 ou menos (terceiro quartil).\n",
        "\n",
        "Podemos ver os números reais chamando o método **`describe()`** no dataframe."
      ]
    },
    {
      "metadata": {
        "id": "RsLiO4r-m4yH",
        "colab_type": "code",
        "colab": {}
      },
      "cell_type": "code",
      "source": [
        "df_japan.describe()"
      ],
      "execution_count": 0,
      "outputs": []
    },
    {
      "metadata": {
        "id": "ewYf5CDJmh7K",
        "colab_type": "text"
      },
      "cell_type": "markdown",
      "source": [
        "Um dos principais benefícios dos box plots é comparar a distribuição de vários conjuntos de dados. Em um dos módulos anteriores, observamos que a China e a Índia tinham tendências de imigração muito semelhantes. Vamos analisar mais usando gráficos de caixa.\n",
        "\n",
        "**Questão:** Compare a distribuição do número de novos imigrantes da Índia e da China para o período de 1980 a 2013."
      ]
    },
    {
      "metadata": {
        "id": "62wAFvL8mhmY",
        "colab_type": "code",
        "colab": {}
      },
      "cell_type": "code",
      "source": [
        "############################################################################\n",
        "# TODO: Plote um diagrama de caixa sobre os dados do da China e da India   #\n",
        "# para comparar. Confira os dados do diagrama com o metodo .describe       #\n",
        "############################################################################\n",
        "pass\n",
        "df_ci.plot(kind='box', figsize=(10, 7), color='blue', vert=False)\n",
        "print(df_ci.describe())\n",
        "############################################################################\n",
        "#                             END OF YOUR CODE                             #\n",
        "############################################################################\n",
        "\n",
        "plt.title('Box plots of Immigrants from China and India (1980 - 2013)')\n",
        "plt.xlabel('Number of Immigrants')\n",
        "plt.show()"
      ],
      "execution_count": 0,
      "outputs": []
    },
    {
      "metadata": {
        "id": "PsTceZkvn-W1",
        "colab_type": "text"
      },
      "cell_type": "markdown",
      "source": [
        "Podemos observar que, embora ambos os países tenham aproximadamente a mesma população média de imigrantes (~ 20.000), a faixa populacional de imigrantes na China é mais disseminada do que a da Índia. A população máxima da Índia para qualquer ano (36.210) é cerca de 15% menor que a população máxima da China (42.584)."
      ]
    },
    {
      "metadata": {
        "id": "eO8-7OGJnn63",
        "colab_type": "code",
        "colab": {}
      },
      "cell_type": "code",
      "source": [
        "# crie uma figura\n",
        "fig = plt.figure()\n",
        "\n",
        "# crie as regios do subplot\n",
        "ax0 = fig.add_subplot(121)\n",
        "ax1 = fig.add_subplot(122) \n",
        "\n",
        "############################################################################\n",
        "# TODO: Com o DataDrame criado com os dados da China e da India, plote um  #\n",
        "# grafico de linhas e um diagrama de caixa lado a lado.                    #\n",
        "#                                                                          #\n",
        "# OBS.: Utilize o parametro ax para definir a regiao da figura em que o    # \n",
        "# grafico sera plotado.                                                    #\n",
        "############################################################################\n",
        "pass\n",
        "df_ci.plot(kind='box', color='blue', vert=False, figsize=(20, 6), ax=ax0)\n",
        "df_ci.plot(kind='line', figsize=(20, 6), ax=ax1)\n",
        "############################################################################\n",
        "#                             END OF YOUR CODE                             #\n",
        "############################################################################\n",
        "\n",
        "ax0.set_title('Box Plots of Immigrants from China and India (1980 - 2013)')\n",
        "ax0.set_xlabel('Number of Immigrants')\n",
        "ax0.set_ylabel('Countries')\n",
        "\n",
        "ax1.set_title ('Line Plots of Immigrants from China and India (1980 - 2013)')\n",
        "ax1.set_ylabel('Number of Immigrants')\n",
        "ax1.set_xlabel('Years')\n",
        "\n",
        "plt.show()"
      ],
      "execution_count": 0,
      "outputs": []
    },
    {
      "metadata": {
        "id": "9w92_MtzoJ72",
        "colab_type": "text"
      },
      "cell_type": "markdown",
      "source": [
        "**Questão:** Crie uma caixa para visualizar a distribuição dos 15 principais países (com base na imigração total) agrupados nas décadas de 1980, 1990 e 2000."
      ]
    },
    {
      "metadata": {
        "id": "dCzmDkgooJsM",
        "colab_type": "code",
        "colab": {}
      },
      "cell_type": "code",
      "source": [
        "# Criando uma lista de todos os anos nas decada de 80 e 90\n",
        "years_80s = list(map(str, range(1980, 1990))) \n",
        "years_90s = list(map(str, range(1990, 2000))) \n",
        "years_00s = list(map(str, range(2000, 2010))) \n",
        "\n",
        "############################################################################\n",
        "# TODO: Selecione os dados dos 15 paises que mais imigraram para o Canada. #\n",
        "# Agrupe-os pelo numero total de imigracoes em cada decada. Para isso,     #\n",
        "# salve esses valores em tres Series distintas:                            #\n",
        "#   - df_80s : Serie contendo o total de imigracoes entre 1980 e 1990      #\n",
        "#   - df_90s : Serie contendo o total de imigracoes entre 1990 e 2000      #\n",
        "#   - df_00s : Serie contendo o total de imigracoes entre 2000 e 2010      #\n",
        "#                                                                          #\n",
        "# OBS.: As variaveis criadas acima (years_80s, years_90s, years_00s) podem #\n",
        "# ser uteis.                                                               #\n",
        "############################################################################\n",
        "pass\n",
        "df_top15 = df.sort_values(['Total'], ascending=False, axis=0).head(15)\n",
        "\n",
        "df_80s = df_top15.loc[:, years_80s].sum(axis=1) \n",
        "df_90s = df_top15.loc[:, years_90s].sum(axis=1) \n",
        "df_00s = df_top15.loc[:, years_00s].sum(axis=1)\n",
        "############################################################################\n",
        "#                             END OF YOUR CODE                             #\n",
        "############################################################################\n",
        "\n",
        "# Mesclar as Series criadas em um novo DataFrame\n",
        "df_aux = pd.DataFrame({'1980s': df_80s, '1990s': df_90s, '2000s':df_00s}) \n",
        "\n",
        "print(df_aux)\n",
        "df_aux.describe()"
      ],
      "execution_count": 0,
      "outputs": []
    },
    {
      "metadata": {
        "id": "DtVv8XmEpBhF",
        "colab_type": "code",
        "colab": {}
      },
      "cell_type": "code",
      "source": [
        "############################################################################\n",
        "# TODO:  Plote um diagrama de caixas do DataFrame criado acima.            #\n",
        "#                                                                          #\n",
        "# OBS.: Se necessario, utilize o parametro sym para exibir os outliers.    #\n",
        "############################################################################\n",
        "pass\n",
        "df_aux.plot(kind='box', figsize=(10, 6), sym='ko')\n",
        "############################################################################\n",
        "#                             END OF YOUR CODE                             #\n",
        "############################################################################\n",
        "\n",
        "plt.title('Immigration from top 15 countries for decades 80s, 90s and 2000s')\n",
        "plt.show()\n",
        "\n",
        "del df_aux"
      ],
      "execution_count": 0,
      "outputs": []
    },
    {
      "metadata": {
        "id": "cVbBupUfDxVd",
        "colab_type": "text"
      },
      "cell_type": "markdown",
      "source": [
        "### Gráfico de dispersão <a name=\"scatter-plots\"></a>\n",
        "\n",
        "Um gráfico de dispersão (2D) é um método útil para comparar variáveis entre si. Os gráficos de dispersão são semelhantes aos gráficos de linhas, pois ambos mapeiam variáveis independentes e dependentes em um gráfico 2D. Embora os pontos de dados estejam conectados por uma linha em um gráfico de linhas, eles não estão conectados em um gráfico de dispersão. Os dados em um gráfico de dispersão são considerados para expressar uma tendência. Com uma análise mais aprofundada usando ferramentas como a regressão, podemos calcular matematicamente esse relacionamento e usá-lo para prever tendências fora do conjunto de dados."
      ]
    },
    {
      "metadata": {
        "id": "9mfpnRB6-xIF",
        "colab_type": "text"
      },
      "cell_type": "markdown",
      "source": [
        "**Questão:** Usando um gráfico de dispersão, visualize a tendência da imigração total para o Canadá (todos os países combinados) para os anos 1980 - 2013."
      ]
    },
    {
      "metadata": {
        "id": "q485zCJe_Z2A",
        "colab_type": "text"
      },
      "cell_type": "markdown",
      "source": [
        "**Etapa 1:**\n",
        "\n",
        "Obtenha o conjunto de dados. Como esperamos usar a relação entre anos e população total, converteremos anos em tipo flutuante."
      ]
    },
    {
      "metadata": {
        "id": "wce_NDKZEr4D",
        "colab_type": "code",
        "colab": {}
      },
      "cell_type": "code",
      "source": [
        "# Podemos usar o método sum() para obter a população total por ano\n",
        "df_tot = pd.DataFrame(df[years].sum(axis=0))\n",
        "\n",
        "# Altere os anos para float (util para regressão mais tarde)\n",
        "df_tot.index = map(float,df_tot.index)\n",
        "\n",
        "# Redefinir o índice\n",
        "df_tot.reset_index(inplace = True)\n",
        "\n",
        "# Renomear colunas\n",
        "df_tot.columns = ['year', 'total']\n",
        "\n",
        "# Veja o dataframe final\n",
        "df_tot.head()"
      ],
      "execution_count": 0,
      "outputs": []
    },
    {
      "metadata": {
        "id": "LFUwuIOG_jz7",
        "colab_type": "text"
      },
      "cell_type": "markdown",
      "source": [
        "**Etapa 2:**\n",
        "\n",
        "Plotar dados. No `Matplotlib`, podemos criar um gráfico de dispersão ao passar em **`kind = \"scatter\"`** como argumento de plotagem. Também precisaremos passar as palavras-chave **`x`** e **`y`** para especificar as colunas que vão nos eixos x e y."
      ]
    },
    {
      "metadata": {
        "id": "ocpPgQDkErlI",
        "colab_type": "code",
        "colab": {}
      },
      "cell_type": "code",
      "source": [
        "############################################################################\n",
        "# TODO:  Plote um grafico de dispersao do DataFrame df_tot.                #\n",
        "############################################################################\n",
        "pass\n",
        "df_tot.plot(kind='scatter', x='year', y='total', \n",
        "            figsize=(10, 6), color='darkblue')\n",
        "############################################################################\n",
        "#                             END OF YOUR CODE                             #\n",
        "############################################################################\n",
        "\n",
        "plt.title('Total Immigration to Canada from 1980 - 2013')\n",
        "plt.xlabel('Year')\n",
        "plt.ylabel('Number of Immigrants')\n",
        "plt.show()"
      ],
      "execution_count": 0,
      "outputs": []
    },
    {
      "metadata": {
        "id": "F6PYmG9K_31u",
        "colab_type": "text"
      },
      "cell_type": "markdown",
      "source": [
        "Observe como o gráfico de dispersão não conecta os pontos de dados juntos. Podemos observar claramente uma tendência ascendente nos dados: à medida que os anos passam, o número total de imigrantes aumenta. Podemos analisar matematicamente essa tendência ascendente usando uma linha de regressão (linha de melhor ajuste)."
      ]
    },
    {
      "metadata": {
        "id": "-nDnFjAh_3oc",
        "colab_type": "text"
      },
      "cell_type": "markdown",
      "source": [
        "**Questão:** Faça uma linha linear de melhor ajuste e use-a para prever o número de imigrantes em 2015.\n",
        "\n",
        "---\n",
        "\n",
        "**Etapa 1:** obtenha a equação da linha de melhor ajuste. Vamos usar o método **`polyfit()`** do ** Numpy ** passando o seguinte:\n",
        "- **`x`:** coordenadas x dos dados.\n",
        "- **`y`:** coordenadas y dos dados.\n",
        "- **`deg`: ** Grau de ajuste polinomial. 1 = linear, 2 = quadrático e assim por diante"
      ]
    },
    {
      "metadata": {
        "id": "pEFcplAgAT2W",
        "colab_type": "code",
        "colab": {}
      },
      "cell_type": "code",
      "source": [
        "x = df_tot.year      \n",
        "y = df_tot.total    \n",
        "fit = np.polyfit(x, y, deg=1)\n",
        "\n",
        "print(fit)"
      ],
      "execution_count": 0,
      "outputs": []
    },
    {
      "metadata": {
        "id": "e83DI3i8Ad0-",
        "colab_type": "text"
      },
      "cell_type": "markdown",
      "source": [
        "A saída é uma matriz com os coeficientes polinomiais, as maiores potências primeiro. Como estamos plotando uma regressão linear **`y = a*x + b`**, nossa saída tem 2 elementos **`[5.56709228e + 03, -1.09261952e + 07]`** com a inclinação na posição 0 e intercepta na posição 1.\n",
        "\n",
        "**Etapa 2: **\n",
        "\n",
        "Plote a linha de regressão no gráfico de dispersão."
      ]
    },
    {
      "metadata": {
        "id": "bkbR0GAdAmrc",
        "colab_type": "code",
        "colab": {}
      },
      "cell_type": "code",
      "source": [
        "############################################################################\n",
        "# TODO:  Plote um grafico de dispersao do DataFrame df_tot.                #\n",
        "############################################################################\n",
        "pass\n",
        "df_tot.plot(kind='scatter', x='year', y='total', \n",
        "            figsize=(10, 6), color='darkblue')\n",
        "############################################################################\n",
        "#                             END OF YOUR CODE                             #\n",
        "############################################################################\n",
        "\n",
        "plt.title('Total Immigration to Canada from 1980 - 2013')\n",
        "plt.xlabel('Year')\n",
        "plt.ylabel('Number of Immigrants')\n",
        "\n",
        "# Plote a linha de melhor ajuste\n",
        "plt.plot(x,fit[0]*x + fit[1], color='red') # recall that x is the Years\n",
        "plt.annotate('y={0:.0f} x + {1:.0f}'.format(fit[0], fit[1]), xy=(2000, 150000))\n",
        "plt.show()\n",
        "\n",
        "# Imprima a linha de melhor ajuste\n",
        "print('No. Immigrants = {0:.0f} * Year + {1:.0f}'.format(fit[0], fit[1]) )"
      ],
      "execution_count": 0,
      "outputs": []
    },
    {
      "metadata": {
        "id": "hUKWRG9sA6GL",
        "colab_type": "text"
      },
      "cell_type": "markdown",
      "source": [
        "Usando a equação da linha de melhor ajuste, podemos estimar o número de imigrantes em 2015:\n",
        "`` `python\n",
        "Não. Imigrantes = 5567 * Ano - 10926195\n",
        "Não. Imigrantes = 5567 * 2015 - 10926195\n",
        "Não. Imigrantes = 291.310\n",
        "`` `\n",
        "Quando comparado com os dados reais do Relatório Anual 2016 da Cidadania e Imigração (CIC) (http://www.cic.gc.ca/english/resources/publications/annual-report-2016/index.asp), que o Canadá aceitou 271.845 imigrantes em 2015. Nosso valor estimado de 291.310 está dentro de 7% do número real, o que é muito bom considerando que nossos dados originais vieram das Nações Unidas (e podem diferir ligeiramente dos dados do CIC).\n",
        "\n",
        "Como uma nota lateral, podemos observar que a imigração deu um mergulho em torno de 1993-1997. Uma análise mais aprofundada sobre o tema revelou que em 1993 o Canadá interveio Bill C-86, que introduziu revisões no sistema de determinação de refugiados, principalmente restritivo. Outras emendas aos Regulamentos de Imigração cancelaram o patrocínio requerido para \"parentes assistidos\" e reduziram os pontos atribuídos a eles, tornando mais difícil para os membros da família (exceto família nuclear) imigrar para o Canadá. Estas medidas restritivas tiveram um impacto direto nos números da imigração nos próximos anos."
      ]
    },
    {
      "metadata": {
        "id": "h5ihGAIg_Stn",
        "colab_type": "text"
      },
      "cell_type": "markdown",
      "source": [
        "---\n",
        "\n",
        "Parabéns, você chegou ao fim do minicurso!\n",
        "---\n",
        "\n",
        "![pd-dance](https://media1.tenor.com/images/7b28d68e6b3a4b2cf3ee611060ab73ad/tenor.gif?itemid=3356568)"
      ]
    },
    {
      "metadata": {
        "id": "L7JR3zmmBcUS",
        "colab_type": "text"
      },
      "cell_type": "markdown",
      "source": [
        "---\n",
        "## Dicas e observações:<a name=\"dicas\"></a>"
      ]
    },
    {
      "metadata": {
        "colab_type": "text",
        "id": "pQ8AdHdaXzc1"
      },
      "cell_type": "markdown",
      "source": [
        "### Utilizando o Google  Colaboratory:\n",
        "\n",
        "#### 1. Comandos no terminal:\n",
        "Para utilizar qualquer comando no terminal, comece com um **`!`**. Por exemplo, para mostrar os arquivos do diretório atual utilize\n",
        "\n",
        "```sh\n",
        "!ls\n",
        "```\n",
        "\n",
        "#### 2. Baixar biliotecas:\n",
        "Em caso do módulo não estar instalado na máquina, utilize o comando \n",
        "\n",
        "```python\n",
        "!pip install nome_do_modulo\n",
        "```\n",
        "\n",
        "#### 3. Importando arquivos:\n",
        "Para importar arquivos da sua máquina para o Colaboratory, o comando abaixo pode ser útil\n",
        "```pyhon\n",
        "from google.colab import files\n",
        "uploaded = files.upload()\n",
        "```\n",
        "\n",
        "Para importar de seu drive, o comando abaixo pode ser útil\n",
        "\n",
        "\n",
        "```python\n",
        "!apt-get install -y -qq software-properties-common python-software-properties module-init-tools\n",
        "!add-apt-repository -y ppa:alessandro-strada/ppa 2>&1 > /dev/null\n",
        "!apt-get update -qq 2>&1 > /dev/null\n",
        "!apt-get -y install -qq google-drive-ocamlfuse fuse\n",
        "from google.colab import auth\n",
        "auth.authenticate_user()\n",
        "from oauth2client.client import GoogleCredentials\n",
        "creds = GoogleCredentials.get_application_default()\n",
        "import getpass\n",
        "!google-drive-ocamlfuse -headless -id={creds.client_id} -secret={creds.client_secret} < /dev/null 2>&1 | grep URL\n",
        "vcode = getpass.getpass()\n",
        "!echo {vcode} | google-drive-ocamlfuse -headless -id={creds.client_id} -secret={creds.client_secret}\n",
        "\n",
        "!mkdir -p drive\n",
        "!google-drive-ocamlfuse drive\n",
        "```\n"
      ]
    },
    {
      "metadata": {
        "colab_type": "text",
        "id": "Vu-zYPuGj0pU"
      },
      "cell_type": "markdown",
      "source": [
        "---\n",
        "## Referências: <a name=\"ref\"></a>\n",
        "\n",
        "### Livros:\n",
        "\n",
        "- [Python for Data Analysis, 2nd Edition](http://shop.oreilly.com/product/0636920050896.do)\n",
        "\n",
        "### Cursos onlines:\n",
        "- [Cognitive Class (IBM): *Applied Data Science with Python*](https://cognitiveclass.ai/learn/data-science-with-python/)"
      ]
    }
  ]
}