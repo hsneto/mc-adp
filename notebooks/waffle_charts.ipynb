{
 "cells": [
  {
   "cell_type": "markdown",
   "metadata": {
    "colab_type": "text",
    "id": "ZH21s64vjTQd"
   },
   "source": [
    "# Análise de Dados com Python - Waffle Charts"
   ]
  },
  {
   "cell_type": "markdown",
   "metadata": {
    "colab_type": "text",
    "id": "mTzSjtLqjTHG"
   },
   "source": [
    "**Minicurso:** Análise de Dados com Python\n",
    "\n",
    "**Instrutor:** Humberto da Silva Neto"
   ]
  },
  {
   "cell_type": "markdown",
   "metadata": {
    "colab_type": "text",
    "id": "cTGCJmIxjS47"
   },
   "source": [
    "**Aluno:** "
   ]
  },
  {
   "cell_type": "markdown",
   "metadata": {
    "colab_type": "text",
    "id": "-5MGp0H2kmWr"
   },
   "source": [
    "---"
   ]
  },
  {
   "cell_type": "code",
   "execution_count": 0,
   "metadata": {
    "colab": {},
    "colab_type": "code",
    "id": "Te8egHMBsbxD"
   },
   "outputs": [],
   "source": [
    "import pandas as pd\n",
    "import numpy as np\n",
    "import matplotlib as mpl\n",
    "import matplotlib.pyplot as plt\n",
    "import matplotlib.patches as mpatches # needed for waffle Charts\n",
    "\n",
    "mpl.style.use('bmh') # optional: for ggplot-like style\n",
    "\n",
    "%matplotlib inline"
   ]
  },
  {
   "cell_type": "markdown",
   "metadata": {
    "colab_type": "text",
    "id": "4JS3g6dTtXoD"
   },
   "source": [
    "Um gráfico de waffle é uma visualização interessante que normalmente é criada para exibir o progresso em direção às metas. Geralmente, é uma opção eficaz quando você está tentando adicionar recursos de visualização interessantes a um visual composto principalmente por células, como um painel do Excel.\n",
    "\n",
    "Para prosseguir, iremos importar uma base de dados$^{[1]}$ de imigrações para o canada entre os anos de 1980 a 2013.\n",
    "\n",
    "---\n",
    "$^{[1]}$ Correções já aplicadas"
   ]
  },
  {
   "cell_type": "markdown",
   "metadata": {
    "colab_type": "text",
    "id": "BlEAKOHnJs2X"
   },
   "source": [
    "## Importando a tabela"
   ]
  },
  {
   "cell_type": "code",
   "execution_count": 0,
   "metadata": {
    "colab": {},
    "colab_type": "code",
    "id": "MFJmonITv4Wt"
   },
   "outputs": [],
   "source": [
    "df = pd.read_csv('https://raw.githubusercontent.com/hsneto/mc-adp/master/datasets/canada.csv', index_col=0)\n",
    "df.head()"
   ]
  },
  {
   "cell_type": "markdown",
   "metadata": {
    "colab_type": "text",
    "id": "VWvalXWttXkO"
   },
   "source": [
    "Vamos rever os dados referentes aos seguintes países: Albania, Brasil e a Islândia."
   ]
  },
  {
   "cell_type": "code",
   "execution_count": 0,
   "metadata": {
    "colab": {},
    "colab_type": "code",
    "id": "gbGxqbAHwrYa"
   },
   "outputs": [],
   "source": [
    "# vamos criar um novo dataframe para esses três países\n",
    "df_abi = df.loc[['Albania', 'Brazil', 'Iceland'], :]\n",
    "df_abi"
   ]
  },
  {
   "cell_type": "markdown",
   "metadata": {
    "colab_type": "text",
    "id": "7Y3XC4r0-Sgd"
   },
   "source": [
    "## Criando um waffle chart do zero"
   ]
  },
  {
   "cell_type": "markdown",
   "metadata": {
    "colab_type": "text",
    "id": "SSfXq6lMyuSI"
   },
   "source": [
    "Infelizmente, ao contrário de R, os  waffle charts não são incorporados em nenhuma das bibliotecas de visualização do Python$^{[1]}$. Portanto, aprenderemos como criá-las do zero.\n",
    "\n",
    "Sendo assim, seguiremos as seguintes etapas:\n",
    "\n",
    "1.   Determinar a proporção de cada categoria em relação ao total.\n",
    "2.   Definir o tamanho total do gráfico de waffle.\n",
    "3.   Determinar o número de peças em função da proporção de cada categoria.\n",
    "4.   Criar uma matriz que se assemelhe ao gráfico de waffle e preenchê-la.\n",
    "5.   Mapear a matriz do gráfico de waffle em um gráfico visual.\n",
    "6.   Criar blocos para melhorar a visualização.\n",
    "7.   Crie uma legenda.\n",
    "\n",
    "\n",
    "---\n",
    "$^{[1]}$ Pesquisando, eu encontrei uma biblioteca chamada PyWaffle no [stackoverflow](https://stackoverflow.com/questions/41400136/how-to-do-waffle-charts-in-python-square-piechart). Para mais, acesse a página do [github](https://github.com/ligyxy/PyWaffle)."
   ]
  },
  {
   "cell_type": "markdown",
   "metadata": {
    "colab_type": "text",
    "id": "Scdak6vL-dD3"
   },
   "source": [
    "### Etapa 1: Determinar a proporção de cada categoria em relação ao total"
   ]
  },
  {
   "cell_type": "code",
   "execution_count": 0,
   "metadata": {
    "colab": {},
    "colab_type": "code",
    "id": "zqS9CAsV-kIk"
   },
   "outputs": [],
   "source": [
    "# calcular a proporção de cada categoria em relação ao total\n",
    "total_values = sum(df_abi['Total'])\n",
    "\n",
    "category_proportions = [float(value)/total_values for value in df_abi['Total']]\n",
    "\n",
    "# imprime proporções\n",
    "for i, proportion in enumerate(category_proportions):\n",
    "  print(df_abi.index.values[i] + ':' + str(proportion))"
   ]
  },
  {
   "cell_type": "markdown",
   "metadata": {
    "colab_type": "text",
    "id": "QMTwohXS_wmO"
   },
   "source": [
    "### Etapa 2: Definir o tamanho total do gráfico de waffle"
   ]
  },
  {
   "cell_type": "code",
   "execution_count": 0,
   "metadata": {
    "colab": {},
    "colab_type": "code",
    "id": "T2MQ3FTs_40w"
   },
   "outputs": [],
   "source": [
    "width = 20\n",
    "height = 5\n",
    "\n",
    "num_tiles = height * width\n",
    "\n",
    "print('número total de peças: ' + str(num_tiles))"
   ]
  },
  {
   "cell_type": "markdown",
   "metadata": {
    "colab_type": "text",
    "id": "nlrkylxE_1BF"
   },
   "source": [
    "### Etapa 3: Determinar o número de peças em função da proporção de cada categoria"
   ]
  },
  {
   "cell_type": "code",
   "execution_count": 0,
   "metadata": {
    "colab": {},
    "colab_type": "code",
    "id": "vi28tujD_5LA"
   },
   "outputs": [],
   "source": [
    "# calcula o número de peças para cada categoria\n",
    "tiles_per_category = [round(proportion * num_tiles) for proportion in category_proportions]\n",
    "\n",
    "# imprime o número de peças por categoria\n",
    "for i, tiles in enumerate(tiles_per_category):\n",
    "    print (df_abi.index.values[i] + ': ' + str(tiles))"
   ]
  },
  {
   "cell_type": "markdown",
   "metadata": {
    "colab_type": "text",
    "id": "QmEzWGjFBCWp"
   },
   "source": [
    "Isso significa que para cada 100 pessoas que imigraram para o Canadá entre os anos de 1980 a 2013 (considerando somente esses três países), 65 são brasileiros, 34 albanêses e somente 1 é islandes."
   ]
  },
  {
   "cell_type": "markdown",
   "metadata": {
    "colab_type": "text",
    "id": "cuwuWJ63_1LP"
   },
   "source": [
    "### Etapa 4: Criar uma matriz que se assemelhe ao gráfico de waffle e preenchê-la"
   ]
  },
  {
   "cell_type": "code",
   "execution_count": 0,
   "metadata": {
    "colab": {},
    "colab_type": "code",
    "id": "LLsEsjIF_5ln"
   },
   "outputs": [],
   "source": [
    "# inicializa o gráfico de waffle como uma matriz vazia\n",
    "waffle_chart = np.zeros((height, width))\n",
    "\n",
    "# define índices para percorrer o gráfico de waffle\n",
    "category_index = 0\n",
    "tile_index = 0\n",
    "\n",
    "# preencher o gráfico de waffle\n",
    "for col in range(width):\n",
    "  for row in range(height):\n",
    "    tile_index += 1\n",
    "\n",
    "    # se o número de blocos preenchidos para a categoria atual for igual aos blocos correspondentes alocados ...\n",
    "    if tile_index > sum(tiles_per_category[0:category_index]):\n",
    "      # ... prossiga para a próxima categoria\n",
    "      category_index += 1       \n",
    "            \n",
    "    # defina o valor da classe para um inteiro, o que aumenta com a classe\n",
    "    waffle_chart[row, col] = category_index\n",
    "        \n",
    "print ('Waffle chart preenchido!')"
   ]
  },
  {
   "cell_type": "markdown",
   "metadata": {
    "colab_type": "text",
    "id": "nLFzKCFMCJ1f"
   },
   "source": [
    "Vamos dar uma olhada na matriz gerada"
   ]
  },
  {
   "cell_type": "code",
   "execution_count": 0,
   "metadata": {
    "colab": {},
    "colab_type": "code",
    "id": "QAI-3xgOCGrm"
   },
   "outputs": [],
   "source": [
    "waffle_chart"
   ]
  },
  {
   "cell_type": "markdown",
   "metadata": {
    "colab_type": "text",
    "id": "FLD5kplCCTPM"
   },
   "source": [
    "Como esperado, a matriz consiste em três categorias e o número total de instâncias de cada categoria corresponde ao número total de blocos atribuídos a cada categoria.\n",
    "\n",
    "Como por exemplo. encontramos apenas um **3.** representando o único imigrante islandes."
   ]
  },
  {
   "cell_type": "markdown",
   "metadata": {
    "colab_type": "text",
    "id": "y0HUa6yq_1R8"
   },
   "source": [
    "### Etapa 5: Mapear a matriz do gráfico de waffle em um gráfico visual"
   ]
  },
  {
   "cell_type": "code",
   "execution_count": 0,
   "metadata": {
    "colab": {},
    "colab_type": "code",
    "id": "_Y6fbHQo_58E"
   },
   "outputs": [],
   "source": [
    "plt.matshow(waffle_chart, cmap=plt.cm.gnuplot)\n",
    "plt.colorbar()"
   ]
  },
  {
   "cell_type": "markdown",
   "metadata": {
    "colab_type": "text",
    "id": "DnhmIHKpHqbq"
   },
   "source": [
    "Caso você tenha interesse em controlar a palheta de cores das palavras plotadas, sinta-se livre para alterar o argumento **colormap**. \n",
    "\n",
    "Os links abaixo contém exemplos das palhetas de cores disponíveis:\n",
    "\n",
    "- [link1](https://matplotlib.org/examples/color/colormaps_reference.html)\n",
    "- [link2](https://matplotlib.org/users/colormaps.html)"
   ]
  },
  {
   "cell_type": "markdown",
   "metadata": {
    "colab_type": "text",
    "id": "_pBGOMm7DdSA"
   },
   "source": [
    "### Etapa 6: Criar blocos para melhorar a visualização"
   ]
  },
  {
   "cell_type": "code",
   "execution_count": 0,
   "metadata": {
    "colab": {},
    "colab_type": "code",
    "id": "FAEeMgvZDdyV"
   },
   "outputs": [],
   "source": [
    "# instanciar um novo objeto de figura\n",
    "fig = plt.figure()\n",
    "\n",
    "plt.matshow(waffle_chart, cmap=plt.cm.gnuplot)\n",
    "plt.colorbar()\n",
    "\n",
    "ax = plt.gca()\n",
    "ax.set_xticks(np.arange(-.5, (width), 1), minor=True)\n",
    "ax.set_yticks(np.arange(-.5, (height), 1), minor=True)\n",
    "    \n",
    "# adicione linhas de grade\n",
    "ax.grid(which='minor', color='w', linestyle='-', linewidth=2)\n",
    "\n",
    "plt.xticks([])\n",
    "plt.yticks([])"
   ]
  },
  {
   "cell_type": "markdown",
   "metadata": {
    "colab_type": "text",
    "id": "Qo2E-VioEb_n"
   },
   "source": [
    "### Etapa 7: Crie uma legenda"
   ]
  },
  {
   "cell_type": "code",
   "execution_count": 0,
   "metadata": {
    "colab": {},
    "colab_type": "code",
    "id": "iN5HhSTbEcWD"
   },
   "outputs": [],
   "source": [
    "# instanciar um novo objeto de figura\n",
    "fig = plt.figure()\n",
    "\n",
    "plt.matshow(waffle_chart, cmap=plt.cm.gnuplot)\n",
    "plt.colorbar()\n",
    "\n",
    "ax = plt.gca()\n",
    "ax.set_xticks(np.arange(-.5, (width), 1), minor=True)\n",
    "ax.set_yticks(np.arange(-.5, (height), 1), minor=True)\n",
    "    \n",
    "# adicione linhas de grade\n",
    "ax.grid(which='minor', color='w', linestyle='-', linewidth=2)\n",
    "\n",
    "plt.xticks([])\n",
    "plt.yticks([])\n",
    "\n",
    "# para calcular a cor do bloco na legenda\n",
    "total_rows = df_abi['Total'].shape[0] - 1\n",
    "\n",
    "# criar legenda\n",
    "legend_handles = []\n",
    "for i, category in enumerate(df_abi.index.values):\n",
    "    label_str = category + ' (' + str(df_abi['Total'][i]) + ')'\n",
    "    color_val = plt.cm.gnuplot(float(i)/total_rows)\n",
    "    legend_handles.append(mpatches.Patch(color=color_val, label=label_str))\n",
    "\n",
    "# adicionar legenda no gráfico\n",
    "plt.legend(handles=legend_handles,\n",
    "           loc='lower center', \n",
    "           ncol=len(df_abi.index.values),\n",
    "           bbox_to_anchor=(0., -0.2, 0.95, .1)\n",
    "          )"
   ]
  },
  {
   "cell_type": "markdown",
   "metadata": {
    "colab_type": "text",
    "id": "il4X-w0IJ0aS"
   },
   "source": [
    "## Empacotando o código em uma função"
   ]
  },
  {
   "cell_type": "code",
   "execution_count": 0,
   "metadata": {
    "colab": {},
    "colab_type": "code",
    "id": "bEqEdIPNLgVl"
   },
   "outputs": [],
   "source": [
    "def waffle_charts(data, width=20, height=5, cmap=plt.cm.coolwarm, colorbar=True, path=None):\n",
    "  def category_proportion(data):\n",
    "    # calcular a proporção de cada categoria em relação ao total\n",
    "    total_values = sum(data)\n",
    "    return [float(value)/total_values for value in data]\n",
    "  \n",
    "  def tiles_per_category(category_prop, num_tiles):\n",
    "    # calcula o número de peças para cada categoria\n",
    "    return [round(proportion * num_tiles) for proportion in category_prop]\n",
    "\n",
    "  def populate_waffle_chart(tiles_per_cat, width, height):\n",
    "    # inicializa o gráfico de waffle como uma matriz vazia\n",
    "    waffle_chart = np.zeros((height, width))\n",
    "\n",
    "    # define índices para percorrer o gráfico de waffle\n",
    "    category_index = 0\n",
    "    tile_index = 0\n",
    "    \n",
    "    # preencher o gráfico de waffle\n",
    "    for col in range(width):\n",
    "      for row in range(height):\n",
    "        tile_index += 1\n",
    "\n",
    "        # se o número de blocos preenchidos para a categoria atual for igual aos blocos correspondentes alocados ...\n",
    "        if tile_index > sum(tiles_per_cat[0:category_index]):\n",
    "          # ... prossiga para a próxima categoria\n",
    "          category_index += 1       \n",
    "\n",
    "        # defina o valor da classe para um inteiro, o que aumenta com a classe\n",
    "        waffle_chart[row, col] = category_index\n",
    "    \n",
    "    return waffle_chart\n",
    "  \n",
    "  \n",
    "  cp = category_proportion(data)\n",
    "  num_tiles = height * width\n",
    "  tiles_cat = tiles_per_category(cp, num_tiles)\n",
    "  waffle_chart = populate_waffle_chart(tiles_cat, width, height)\n",
    "   \n",
    "  # instanciar um novo objeto de figura\n",
    "  fig = plt.figure()\n",
    "\n",
    "  plt.matshow(waffle_chart, cmap=cmap)\n",
    "  if colorbar:\n",
    "    plt.colorbar()\n",
    "\n",
    "  ax = plt.gca()\n",
    "  ax.set_xticks(np.arange(-.5, (width), 1), minor=True)\n",
    "  ax.set_yticks(np.arange(-.5, (height), 1), minor=True)\n",
    "\n",
    "  # adicione linhas de grade\n",
    "  ax.grid(which='minor', color='w', linestyle='-', linewidth=2)\n",
    "\n",
    "  plt.xticks([])\n",
    "  plt.yticks([])\n",
    "\n",
    "  # para calcular a cor do bloco na legenda\n",
    "  total_rows = data.shape[0] - 1\n",
    "\n",
    "  # criar legenda\n",
    "  legend_handles = []\n",
    "  for i, category in enumerate(data.index.values):\n",
    "      label_str = category + ' (' + str(data[i]) + ')'\n",
    "      color_val = cmap(float(i)/total_rows)\n",
    "      legend_handles.append(mpatches.Patch(color=color_val, label=label_str))\n",
    "\n",
    "  # adicionar legenda no gráfico\n",
    "  lgd = plt.legend(handles=legend_handles,\n",
    "                   loc='lower center', \n",
    "                   ncol=len(data.index.values),\n",
    "                   bbox_to_anchor=(0., -0.2, 0.95, .1)\n",
    "                  )\n",
    "  \n",
    "  if path is not None:\n",
    "    plt.savefig(path, dpi=400, bbox_inches='tight', bbox_extra_artist=[lgd])"
   ]
  },
  {
   "cell_type": "code",
   "execution_count": 0,
   "metadata": {
    "colab": {},
    "colab_type": "code",
    "id": "s1NBa-TXOyMl"
   },
   "outputs": [],
   "source": [
    "waffle_charts(df[:10]['Total'], cmap=plt.cm.plasma, colorbar=False)"
   ]
  },
  {
   "cell_type": "markdown",
   "metadata": {
    "colab_type": "text",
    "id": "6X7Une5aJ5lx"
   },
   "source": [
    "## Utilizando PyWaffle"
   ]
  },
  {
   "cell_type": "code",
   "execution_count": 0,
   "metadata": {
    "colab": {},
    "colab_type": "code",
    "id": "CRvTH6nfJ__O"
   },
   "outputs": [],
   "source": [
    "!pip install pywaffle"
   ]
  },
  {
   "cell_type": "code",
   "execution_count": 0,
   "metadata": {
    "colab": {},
    "colab_type": "code",
    "id": "C8t40KFuKGqf"
   },
   "outputs": [],
   "source": [
    "from pywaffle import Waffle\n",
    "\n",
    "data = {'Albania': 34, 'Brazil': 65, 'Iceland': 1}\n",
    "\n",
    "fig = plt.figure(\n",
    "    FigureClass=Waffle, \n",
    "    rows=5, \n",
    "    values=data,\n",
    "    colors=(\"#232066\", \"#983D3D\", \"#DCB732\"),\n",
    "    legend={'loc': 'upper left', 'bbox_to_anchor': (1, 1)},\n",
    "    icons='child', icon_size=18, \n",
    "    icon_legend=True\n",
    ")"
   ]
  }
 ],
 "metadata": {
  "colab": {
   "collapsed_sections": [
    "QMTwohXS_wmO",
    "cuwuWJ63_1LP"
   ],
   "name": "waffle_charts.ipynb",
   "private_outputs": true,
   "provenance": [],
   "version": "0.3.2"
  },
  "kernelspec": {
   "display_name": "Python 3",
   "language": "python",
   "name": "python3"
  },
  "language_info": {
   "codemirror_mode": {
    "name": "ipython",
    "version": 3
   },
   "file_extension": ".py",
   "mimetype": "text/x-python",
   "name": "python",
   "nbconvert_exporter": "python",
   "pygments_lexer": "ipython3",
   "version": "3.6.5"
  }
 },
 "nbformat": 4,
 "nbformat_minor": 1
}
